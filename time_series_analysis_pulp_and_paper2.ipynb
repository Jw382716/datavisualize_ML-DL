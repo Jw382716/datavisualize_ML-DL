{
 "cells": [
  {
   "cell_type": "markdown",
   "metadata": {
    "id": "H2PiE6pYmBv7"
   },
   "source": [
    "#  제조 공정간 불량 예측\n",
    "\n"
   ]
  },
  {
   "cell_type": "markdown",
   "metadata": {
    "id": "OcrJzGK8rrtp"
   },
   "source": [
    "## pulp-and-paper mill 공정\n",
    "* 비즈니스 상황\n",
    "    * 한 롤로 종이를 말다가 찢어지는 사고가 하루에 한번 이상 발생\n",
    "    * 이때마다 공정 중단 및 수율 저하 등, 평균적으로 100백만원의 손실\n",
    "    * 이를 사전에 감지하는 것은 굉장히 어려운 일입니다. 이런 사고를 5%만 감소시키더라도 회사 입장에서는 상당한 비용 절감 효과가 예상됩니다.\n",
    "\n",
    "* Data\n",
    "    * 행\n",
    "        * 주어진 데이터에는 15일 동안 수집된 약 18,000개의 행의 시계열 데이터\n",
    "        * 데이터는 2분 간격으로 측정.\n",
    "    * 열 \n",
    "        * y : normal – 0, abnormal - 1 (124건, 약 0.6%)\n",
    "            * y 의 abnormal 데이터는 장애 발생 2~4분 전으로 시점에 대한 조정(shift)이 된(전처리 된) 데이터 입니다.\n",
    "        * x1 - x61: 원자재, 부자재 및 공정 센서 값들로 구성됨.\n",
    "\n",
    "* 장애 예방 조치\n",
    "    * 장애가 예상된다면, 속도를 줄여 장애를 예방할 수 있습니다.\n",
    "    * 단, 속도를 줄이면 생산성이 저하되므로, 1회당 평균 3만원의 손실이 발생됩니다.\n"
   ]
  },
  {
   "cell_type": "markdown",
   "metadata": {
    "id": "25iQd4AGToG4"
   },
   "source": [
    "![](https://keralakaumudi.com/web-news/en/2020/04/NMAN0141956/image/paper-mill.1.582102.jpg)"
   ]
  },
  {
   "cell_type": "markdown",
   "metadata": {
    "id": "eQ6zIu5HP-TR"
   },
   "source": [
    "## 0.환경준비"
   ]
  },
  {
   "cell_type": "markdown",
   "metadata": {
    "id": "dBemUrbOP-TS"
   },
   "source": [
    "### 1) 라이브러리 로딩"
   ]
  },
  {
   "cell_type": "code",
   "execution_count": 1,
   "metadata": {
    "id": "yFfi2rWqP-TT"
   },
   "outputs": [],
   "source": [
    "import pandas as pd\n",
    "import numpy as np\n",
    "import matplotlib.pyplot as plt\n",
    "import seaborn as sns\n",
    "\n",
    "import warnings\n",
    "warnings.simplefilter(action='ignore', category=FutureWarning)\n",
    "\n",
    "from sklearn.metrics import *\n",
    "from sklearn.model_selection import train_test_split, GridSearchCV\n",
    "from sklearn.preprocessing import StandardScaler, MinMaxScaler\n",
    "\n",
    "import tensorflow as tf\n",
    "from keras.models import Model, load_model\n",
    "from keras.layers import Input, Dense\n",
    "from keras.backend import clear_session"
   ]
  },
  {
   "cell_type": "markdown",
   "metadata": {
    "id": "0idcAKU0P-TT"
   },
   "source": [
    "### 2) 데이터셋 불러오기"
   ]
  },
  {
   "cell_type": "code",
   "execution_count": 2,
   "metadata": {
    "colab": {
     "base_uri": "https://localhost:8080/",
     "height": 356
    },
    "executionInfo": {
     "elapsed": 948,
     "status": "ok",
     "timestamp": 1645666118739,
     "user": {
      "displayName": "한기영",
      "photoUrl": "https://lh3.googleusercontent.com/a/default-user=s64",
      "userId": "13049187003176135487"
     },
     "user_tz": -540
    },
    "id": "2zyxe46-Bdms",
    "outputId": "3fddaed0-1ebf-4541-c2c8-71ca77547070"
   },
   "outputs": [
    {
     "data": {
      "text/html": [
       "<div>\n",
       "<style scoped>\n",
       "    .dataframe tbody tr th:only-of-type {\n",
       "        vertical-align: middle;\n",
       "    }\n",
       "\n",
       "    .dataframe tbody tr th {\n",
       "        vertical-align: top;\n",
       "    }\n",
       "\n",
       "    .dataframe thead th {\n",
       "        text-align: right;\n",
       "    }\n",
       "</style>\n",
       "<table border=\"1\" class=\"dataframe\">\n",
       "  <thead>\n",
       "    <tr style=\"text-align: right;\">\n",
       "      <th></th>\n",
       "      <th>y</th>\n",
       "      <th>time</th>\n",
       "      <th>x1</th>\n",
       "      <th>x2</th>\n",
       "      <th>x3</th>\n",
       "      <th>x4</th>\n",
       "      <th>x5</th>\n",
       "      <th>x6</th>\n",
       "      <th>x7</th>\n",
       "      <th>x8</th>\n",
       "      <th>...</th>\n",
       "      <th>x51</th>\n",
       "      <th>x52</th>\n",
       "      <th>x53</th>\n",
       "      <th>x54</th>\n",
       "      <th>x55</th>\n",
       "      <th>x56</th>\n",
       "      <th>x57</th>\n",
       "      <th>x58</th>\n",
       "      <th>x59</th>\n",
       "      <th>x60</th>\n",
       "    </tr>\n",
       "  </thead>\n",
       "  <tbody>\n",
       "    <tr>\n",
       "      <th>0</th>\n",
       "      <td>0.0</td>\n",
       "      <td>5/1/99 0:00</td>\n",
       "      <td>0.376665</td>\n",
       "      <td>-4.596435</td>\n",
       "      <td>-4.095756</td>\n",
       "      <td>13.497687</td>\n",
       "      <td>-0.118830</td>\n",
       "      <td>-20.669883</td>\n",
       "      <td>0.000732</td>\n",
       "      <td>-0.061114</td>\n",
       "      <td>...</td>\n",
       "      <td>29.984624</td>\n",
       "      <td>10.091721</td>\n",
       "      <td>0.053279</td>\n",
       "      <td>-4.936434</td>\n",
       "      <td>-24.590146</td>\n",
       "      <td>18.515436</td>\n",
       "      <td>3.473400</td>\n",
       "      <td>0.033444</td>\n",
       "      <td>0.953219</td>\n",
       "      <td>0.006076</td>\n",
       "    </tr>\n",
       "    <tr>\n",
       "      <th>1</th>\n",
       "      <td>0.0</td>\n",
       "      <td>5/1/99 0:02</td>\n",
       "      <td>0.475720</td>\n",
       "      <td>-4.542502</td>\n",
       "      <td>-4.018359</td>\n",
       "      <td>16.230659</td>\n",
       "      <td>-0.128733</td>\n",
       "      <td>-18.758079</td>\n",
       "      <td>0.000732</td>\n",
       "      <td>-0.061114</td>\n",
       "      <td>...</td>\n",
       "      <td>29.984624</td>\n",
       "      <td>10.095871</td>\n",
       "      <td>0.062801</td>\n",
       "      <td>-4.937179</td>\n",
       "      <td>-32.413266</td>\n",
       "      <td>22.760065</td>\n",
       "      <td>2.682933</td>\n",
       "      <td>0.033536</td>\n",
       "      <td>1.090502</td>\n",
       "      <td>0.006083</td>\n",
       "    </tr>\n",
       "    <tr>\n",
       "      <th>2</th>\n",
       "      <td>0.0</td>\n",
       "      <td>5/1/99 0:04</td>\n",
       "      <td>0.363848</td>\n",
       "      <td>-4.681394</td>\n",
       "      <td>-4.353147</td>\n",
       "      <td>14.127997</td>\n",
       "      <td>-0.138636</td>\n",
       "      <td>-17.836632</td>\n",
       "      <td>0.010803</td>\n",
       "      <td>-0.061114</td>\n",
       "      <td>...</td>\n",
       "      <td>29.984624</td>\n",
       "      <td>10.100265</td>\n",
       "      <td>0.072322</td>\n",
       "      <td>-4.937924</td>\n",
       "      <td>-34.183774</td>\n",
       "      <td>27.004663</td>\n",
       "      <td>3.537487</td>\n",
       "      <td>0.033629</td>\n",
       "      <td>1.840540</td>\n",
       "      <td>0.006090</td>\n",
       "    </tr>\n",
       "    <tr>\n",
       "      <th>3</th>\n",
       "      <td>0.0</td>\n",
       "      <td>5/1/99 0:06</td>\n",
       "      <td>0.301590</td>\n",
       "      <td>-4.758934</td>\n",
       "      <td>-4.023612</td>\n",
       "      <td>13.161566</td>\n",
       "      <td>-0.148142</td>\n",
       "      <td>-18.517601</td>\n",
       "      <td>0.002075</td>\n",
       "      <td>-0.061114</td>\n",
       "      <td>...</td>\n",
       "      <td>29.984624</td>\n",
       "      <td>10.104660</td>\n",
       "      <td>0.081600</td>\n",
       "      <td>-4.938669</td>\n",
       "      <td>-35.954281</td>\n",
       "      <td>21.672449</td>\n",
       "      <td>3.986095</td>\n",
       "      <td>0.033721</td>\n",
       "      <td>2.554880</td>\n",
       "      <td>0.006097</td>\n",
       "    </tr>\n",
       "    <tr>\n",
       "      <th>4</th>\n",
       "      <td>0.0</td>\n",
       "      <td>5/1/99 0:08</td>\n",
       "      <td>0.265578</td>\n",
       "      <td>-4.749928</td>\n",
       "      <td>-4.333150</td>\n",
       "      <td>15.267340</td>\n",
       "      <td>-0.155314</td>\n",
       "      <td>-17.505913</td>\n",
       "      <td>0.000732</td>\n",
       "      <td>-0.061114</td>\n",
       "      <td>...</td>\n",
       "      <td>29.984624</td>\n",
       "      <td>10.109054</td>\n",
       "      <td>0.091121</td>\n",
       "      <td>-4.939414</td>\n",
       "      <td>-37.724789</td>\n",
       "      <td>21.907251</td>\n",
       "      <td>3.601573</td>\n",
       "      <td>0.033777</td>\n",
       "      <td>1.410494</td>\n",
       "      <td>0.006105</td>\n",
       "    </tr>\n",
       "  </tbody>\n",
       "</table>\n",
       "<p>5 rows × 61 columns</p>\n",
       "</div>"
      ],
      "text/plain": [
       "     y         time        x1        x2        x3         x4        x5  \\\n",
       "0  0.0  5/1/99 0:00  0.376665 -4.596435 -4.095756  13.497687 -0.118830   \n",
       "1  0.0  5/1/99 0:02  0.475720 -4.542502 -4.018359  16.230659 -0.128733   \n",
       "2  0.0  5/1/99 0:04  0.363848 -4.681394 -4.353147  14.127997 -0.138636   \n",
       "3  0.0  5/1/99 0:06  0.301590 -4.758934 -4.023612  13.161566 -0.148142   \n",
       "4  0.0  5/1/99 0:08  0.265578 -4.749928 -4.333150  15.267340 -0.155314   \n",
       "\n",
       "          x6        x7        x8  ...        x51        x52       x53  \\\n",
       "0 -20.669883  0.000732 -0.061114  ...  29.984624  10.091721  0.053279   \n",
       "1 -18.758079  0.000732 -0.061114  ...  29.984624  10.095871  0.062801   \n",
       "2 -17.836632  0.010803 -0.061114  ...  29.984624  10.100265  0.072322   \n",
       "3 -18.517601  0.002075 -0.061114  ...  29.984624  10.104660  0.081600   \n",
       "4 -17.505913  0.000732 -0.061114  ...  29.984624  10.109054  0.091121   \n",
       "\n",
       "        x54        x55        x56       x57       x58       x59       x60  \n",
       "0 -4.936434 -24.590146  18.515436  3.473400  0.033444  0.953219  0.006076  \n",
       "1 -4.937179 -32.413266  22.760065  2.682933  0.033536  1.090502  0.006083  \n",
       "2 -4.937924 -34.183774  27.004663  3.537487  0.033629  1.840540  0.006090  \n",
       "3 -4.938669 -35.954281  21.672449  3.986095  0.033721  2.554880  0.006097  \n",
       "4 -4.939414 -37.724789  21.907251  3.601573  0.033777  1.410494  0.006105  \n",
       "\n",
       "[5 rows x 61 columns]"
      ]
     },
     "execution_count": 2,
     "metadata": {},
     "output_type": "execute_result"
    }
   ],
   "source": [
    "# 공정 데이터 불러오기\n",
    "path = \"https://raw.githubusercontent.com/DA4BAM/dataset/master/processminer2.csv\"\n",
    "data = pd.read_csv(path)\n",
    "data.head()"
   ]
  },
  {
   "cell_type": "markdown",
   "metadata": {
    "id": "hZpmnlm_ZoGN"
   },
   "source": [
    "### 3) 필요 함수들 생성"
   ]
  },
  {
   "cell_type": "markdown",
   "metadata": {
    "id": "pPagQ37T137D"
   },
   "source": [
    "### 0.2 필요 함수들 생성"
   ]
  },
  {
   "cell_type": "markdown",
   "metadata": {
    "id": "4E65EHcv137D"
   },
   "source": [
    "#### ① reconstruction error plot\n",
    "\n",
    "* input과 output의 차이(mse)를 계산하고\n",
    "* 시각화 합니다.\n",
    "\n"
   ]
  },
  {
   "cell_type": "code",
   "execution_count": 3,
   "metadata": {
    "id": "KJA0YCdb137D"
   },
   "outputs": [],
   "source": [
    "def recon_err_plot(x, x_pred, y, threshold=0):\n",
    "    # treshold : 우리가 지정해줘야 함.(어떻게?)\n",
    "    \n",
    "    mse = np.mean(np.power(x - x_pred, 2), axis=1)\n",
    "    error_df = pd.DataFrame({'Reconstruction_error': mse, 'True_class': y})\n",
    "    error_df = error_df.reset_index()\n",
    "\n",
    "    groups = error_df.groupby('True_class')\n",
    "    fig, ax = plt.subplots()\n",
    "    for name, group in groups:\n",
    "        ax.plot(group.index, group.Reconstruction_error, marker='o', ms=3.5, linestyle='',\n",
    "                label= \"Abnormal\" if name == 1 else \"Normal\")\n",
    "    ax.hlines(threshold, ax.get_xlim()[0], ax.get_xlim()[1], colors=\"r\", zorder=100, label='Threshold')\n",
    "    ax.legend()\n",
    "    plt.title(\"Reconstruction error for different classes\")\n",
    "    plt.ylabel(\"Reconstruction error\")\n",
    "    plt.xlabel(\"Data point index\")\n",
    "    plt.show()\n",
    "\n",
    "    return error_df"
   ]
  },
  {
   "cell_type": "markdown",
   "metadata": {
    "id": "1EqlkCUs137E"
   },
   "source": [
    "#### ② precision, recall, f1 curve\n",
    "\n",
    "> * sklearn에서는 precision, recall curve만 제공됩니다. \n",
    "* 그래서, f1 curve도 추가해서 구하고, plot을 그립니다.\n",
    "\n"
   ]
  },
  {
   "cell_type": "code",
   "execution_count": 4,
   "metadata": {
    "id": "r6Z2hJv9137E"
   },
   "outputs": [],
   "source": [
    "from sklearn.metrics import precision_recall_curve\n",
    "import matplotlib.pyplot as plt\n",
    "\n",
    "def prec_rec_f1_curve(y, score, pos = 1) :\n",
    "    precision, recall, thresholds  = precision_recall_curve(y, score, pos_label=1)\n",
    "    f1 = 2 / (1/precision + 1/recall)\n",
    "\n",
    "    plt.plot(thresholds, np.delete(precision, -1), label = 'precision')\n",
    "    plt.plot(thresholds, np.delete(recall, -1), label = 'recall')\n",
    "    plt.plot(thresholds, np.delete(f1, -1), label = 'f1')\n",
    "    plt.xlabel('thresholds')\n",
    "    plt.legend()\n",
    "    plt.grid()\n",
    "    plt.show()\n",
    "\n",
    "    return precision, recall, f1, thresholds"
   ]
  },
  {
   "cell_type": "markdown",
   "metadata": {
    "id": "Vmz-Bj8N137E"
   },
   "source": [
    "#### ③ threshold로 잘랐을 때, 분류 평가 함수\n"
   ]
  },
  {
   "cell_type": "code",
   "execution_count": 5,
   "metadata": {
    "id": "iSOHX0GO137F"
   },
   "outputs": [],
   "source": [
    "from sklearn.metrics import confusion_matrix, classification_report\n",
    "\n",
    "def classification_report2(y, pred, thresholds):\n",
    "    pred_temp = np.where(pred > thresholds , 1, 0)\n",
    "\n",
    "    print('< confusion matrix >\\n')\n",
    "    print(confusion_matrix(y, pred_temp))\n",
    "    print('\\n' + '='*60 + '\\n')\n",
    "\n",
    "    print('< classification_report >\\n')\n",
    "    print(classification_report(y, pred_temp))"
   ]
  },
  {
   "cell_type": "markdown",
   "metadata": {
    "id": "jECAaPceva4m"
   },
   "source": [
    "## 1.데이터 탐색"
   ]
  },
  {
   "cell_type": "code",
   "execution_count": 6,
   "metadata": {
    "id": "C7gFiP_xswn5"
   },
   "outputs": [],
   "source": [
    "target = 'y'"
   ]
  },
  {
   "cell_type": "markdown",
   "metadata": {
    "id": "ovqMu17zqBJi"
   },
   "source": [
    "* Target 변수의 class 비율을 확인해 봅시다."
   ]
  },
  {
   "cell_type": "code",
   "execution_count": 7,
   "metadata": {
    "colab": {
     "base_uri": "https://localhost:8080/"
    },
    "executionInfo": {
     "elapsed": 19,
     "status": "ok",
     "timestamp": 1645664315718,
     "user": {
      "displayName": "한기영",
      "photoUrl": "https://lh3.googleusercontent.com/a/default-user=s64",
      "userId": "13049187003176135487"
     },
     "user_tz": -540
    },
    "id": "42OabrDkrR4_",
    "outputId": "3abd8c75-333f-4270-f0a2-26a2c94dba5d"
   },
   "outputs": [
    {
     "name": "stdout",
     "output_type": "stream",
     "text": [
      "0.0    18150\n",
      "1.0      124\n",
      "Name: y, dtype: int64\n",
      "0.0    0.993214\n",
      "1.0    0.006786\n",
      "Name: y, dtype: float64\n"
     ]
    }
   ],
   "source": [
    "print(data[target].value_counts())\n",
    "print(data[target].value_counts() / data.shape[0])\n"
   ]
  },
  {
   "cell_type": "markdown",
   "metadata": {
    "id": "hDC9Z8vdP-TU"
   },
   "source": [
    "## 2.데이터 준비"
   ]
  },
  {
   "cell_type": "markdown",
   "metadata": {
    "id": "BQRh_I1ob09a"
   },
   "source": [
    "### 2.2 추가변수"
   ]
  },
  {
   "cell_type": "code",
   "execution_count": 8,
   "metadata": {
    "id": "t-SPj8IcVaUh"
   },
   "outputs": [],
   "source": [
    "for v in data.columns[2:] :\n",
    "    var = v + '_diff'\n",
    "    data[var] = data[v] - data[v].shift()\n",
    "\n",
    "data.dropna(axis = 0, inplace = True)"
   ]
  },
  {
   "cell_type": "markdown",
   "metadata": {
    "id": "8p9K03j6stpW"
   },
   "source": [
    "### 2.1 x, y로 분할하기"
   ]
  },
  {
   "cell_type": "markdown",
   "metadata": {
    "id": "mP18tJMnG5tE"
   },
   "source": [
    "* 불필요한 변수 제거"
   ]
  },
  {
   "cell_type": "code",
   "execution_count": 9,
   "metadata": {
    "id": "Mx8qQizlG4Zg"
   },
   "outputs": [],
   "source": [
    "data.drop('time', axis = 1, inplace = True)"
   ]
  },
  {
   "cell_type": "code",
   "execution_count": 10,
   "metadata": {
    "id": "YOtK3h2Usu6G"
   },
   "outputs": [],
   "source": [
    "x = data.drop(target, axis = 1)\n",
    "y = data.loc[:, target]"
   ]
  },
  {
   "cell_type": "markdown",
   "metadata": {
    "id": "yVuSbSQErjQ7"
   },
   "source": [
    "### 2.3 데이터 분할\n",
    "* data ==> train : val = 7 : 3\n",
    "* stratify=y : y의 class 비율을 유지하면서 분할하기"
   ]
  },
  {
   "cell_type": "code",
   "execution_count": 11,
   "metadata": {
    "id": "Daq8L2H2rkGe"
   },
   "outputs": [],
   "source": [
    "x_train, x_val, y_train, y_val = train_test_split(x, y, test_size = .3, random_state=2022, stratify=y)"
   ]
  },
  {
   "cell_type": "code",
   "execution_count": 12,
   "metadata": {
    "colab": {
     "base_uri": "https://localhost:8080/"
    },
    "executionInfo": {
     "elapsed": 346,
     "status": "ok",
     "timestamp": 1645666142074,
     "user": {
      "displayName": "한기영",
      "photoUrl": "https://lh3.googleusercontent.com/a/default-user=s64",
      "userId": "13049187003176135487"
     },
     "user_tz": -540
    },
    "id": "wOxlpZdkrflI",
    "outputId": "0858b335-a64e-4f98-f9b9-81d931934817"
   },
   "outputs": [
    {
     "data": {
      "text/plain": [
       "0.0    0.993198\n",
       "1.0    0.006802\n",
       "Name: y, dtype: float64"
      ]
     },
     "execution_count": 12,
     "metadata": {},
     "output_type": "execute_result"
    }
   ],
   "source": [
    "y_train.value_counts()/len(y_train)"
   ]
  },
  {
   "cell_type": "code",
   "execution_count": 13,
   "metadata": {
    "colab": {
     "base_uri": "https://localhost:8080/"
    },
    "executionInfo": {
     "elapsed": 2,
     "status": "ok",
     "timestamp": 1645666142385,
     "user": {
      "displayName": "한기영",
      "photoUrl": "https://lh3.googleusercontent.com/a/default-user=s64",
      "userId": "13049187003176135487"
     },
     "user_tz": -540
    },
    "id": "mENOR-4QP-TU",
    "outputId": "ad625335-ce40-4ff4-a4d9-4198f30c910a"
   },
   "outputs": [
    {
     "data": {
      "text/plain": [
       "0.0    0.993251\n",
       "1.0    0.006749\n",
       "Name: y, dtype: float64"
      ]
     },
     "execution_count": 13,
     "metadata": {},
     "output_type": "execute_result"
    }
   ],
   "source": [
    "y_val.value_counts()/len(y_val)"
   ]
  },
  {
   "cell_type": "code",
   "execution_count": 14,
   "metadata": {
    "colab": {
     "base_uri": "https://localhost:8080/"
    },
    "executionInfo": {
     "elapsed": 3,
     "status": "ok",
     "timestamp": 1645666144040,
     "user": {
      "displayName": "한기영",
      "photoUrl": "https://lh3.googleusercontent.com/a/default-user=s64",
      "userId": "13049187003176135487"
     },
     "user_tz": -540
    },
    "id": "CvCO5Pru_vuo",
    "outputId": "1d2deebe-2662-44e3-d3b0-5e53786e62d6"
   },
   "outputs": [
    {
     "data": {
      "text/plain": [
       "0.0    5445\n",
       "1.0      37\n",
       "Name: y, dtype: int64"
      ]
     },
     "execution_count": 14,
     "metadata": {},
     "output_type": "execute_result"
    }
   ],
   "source": [
    "y_val.value_counts()"
   ]
  },
  {
   "cell_type": "markdown",
   "metadata": {
    "id": "0VHfqfjDsFjj"
   },
   "source": [
    "### 2.4 스케일링"
   ]
  },
  {
   "cell_type": "code",
   "execution_count": 15,
   "metadata": {
    "id": "zvRvchdCsIT0"
   },
   "outputs": [],
   "source": [
    "scaler = MinMaxScaler()\n",
    "\n",
    "x_train_s = scaler.fit_transform(x_train)\n",
    "x_val_s = scaler.transform(x_val)"
   ]
  },
  {
   "cell_type": "markdown",
   "metadata": {
    "id": "YnoWUFh2KkCS"
   },
   "source": [
    "### 2.5 학습용 데이터 만들기\n",
    "Normal 데이터만 사용합니다."
   ]
  },
  {
   "cell_type": "code",
   "execution_count": 16,
   "metadata": {
    "id": "h9s8eoDcTJrw"
   },
   "outputs": [],
   "source": [
    "x_train0 = x_train_s[y_train == 0]"
   ]
  },
  {
   "cell_type": "code",
   "execution_count": 17,
   "metadata": {},
   "outputs": [
    {
     "data": {
      "text/plain": [
       "(12704, 118)"
      ]
     },
     "execution_count": 17,
     "metadata": {},
     "output_type": "execute_result"
    }
   ],
   "source": [
    "x_train0.shape"
   ]
  },
  {
   "cell_type": "markdown",
   "metadata": {
    "id": "XiD3ZxjrghkX"
   },
   "source": [
    "## 3.모델링 : One Class SVM\n"
   ]
  },
  {
   "cell_type": "code",
   "execution_count": 18,
   "metadata": {
    "id": "D6E1ki0MKoOO"
   },
   "outputs": [],
   "source": [
    "from sklearn.svm import OneClassSVM"
   ]
  },
  {
   "cell_type": "markdown",
   "metadata": {
    "id": "NYeYOFcmhJfX"
   },
   "source": [
    "### 3.1 기본 모델링\n",
    "\n",
    "* default로 모델을 생성하고\n",
    "* 예측하고\n",
    "* 평가합니다."
   ]
  },
  {
   "cell_type": "code",
   "execution_count": 26,
   "metadata": {
    "colab": {
     "base_uri": "https://localhost:8080/"
    },
    "executionInfo": {
     "elapsed": 2,
     "status": "ok",
     "timestamp": 1646138110093,
     "user": {
      "displayName": "한기영",
      "photoUrl": "https://lh3.googleusercontent.com/a/default-user=s64",
      "userId": "13049187003176135487"
     },
     "user_tz": -540
    },
    "id": "Bubr4GW58huO",
    "outputId": "ec8d3ee4-4dee-42b6-94b5-c75f4da1bd39"
   },
   "outputs": [],
   "source": [
    "model = OneClassSVM()\n",
    "model.fit(x_train0)\n",
    "y_pred = model.predict(x_val_s)"
   ]
  },
  {
   "cell_type": "code",
   "execution_count": 27,
   "metadata": {
    "colab": {
     "base_uri": "https://localhost:8080/"
    },
    "executionInfo": {
     "elapsed": 5,
     "status": "ok",
     "timestamp": 1646138112708,
     "user": {
      "displayName": "한기영",
      "photoUrl": "https://lh3.googleusercontent.com/a/default-user=s64",
      "userId": "13049187003176135487"
     },
     "user_tz": -540
    },
    "id": "7pnAWj008huO",
    "outputId": "23acdc86-9473-47cb-b806-eb0d6937b8e6"
   },
   "outputs": [
    {
     "data": {
      "text/plain": [
       "array([ 1, -1,  1, ..., -1,  1, -1], dtype=int64)"
      ]
     },
     "execution_count": 27,
     "metadata": {},
     "output_type": "execute_result"
    }
   ],
   "source": [
    "y_pred"
   ]
  },
  {
   "cell_type": "code",
   "execution_count": 28,
   "metadata": {
    "id": "ia7vseqRtrtH"
   },
   "outputs": [],
   "source": [
    "y_pred = np.where(y_pred==1,0,1)"
   ]
  },
  {
   "cell_type": "code",
   "execution_count": 29,
   "metadata": {
    "colab": {
     "base_uri": "https://localhost:8080/"
    },
    "executionInfo": {
     "elapsed": 2,
     "status": "ok",
     "timestamp": 1646138124902,
     "user": {
      "displayName": "한기영",
      "photoUrl": "https://lh3.googleusercontent.com/a/default-user=s64",
      "userId": "13049187003176135487"
     },
     "user_tz": -540
    },
    "id": "fdifjvQy8huP",
    "outputId": "57571e7f-b516-4e99-df20-565512a8b71e"
   },
   "outputs": [
    {
     "name": "stdout",
     "output_type": "stream",
     "text": [
      "0.014684287812041117\n"
     ]
    }
   ],
   "source": [
    "print(f1_score(y_val, y_pred))"
   ]
  },
  {
   "cell_type": "markdown",
   "metadata": {
    "id": "Cqn3Y0V3hjoW"
   },
   "source": [
    "### 3.2 nu 값 최적화\n",
    "\n",
    "* nu 값을 조정하며 튜닝을 합시다.\n",
    "* for loop를 이용해야 합니다."
   ]
  },
  {
   "cell_type": "markdown",
   "metadata": {
    "id": "K2ScWHbLtLKN"
   },
   "source": [
    "* nu 값을 0.001 ~ 1사이에서 조금씩 조정하며 20개 값으로 실험해 봅시다."
   ]
  },
  {
   "cell_type": "code",
   "execution_count": 30,
   "metadata": {
    "id": "OowW92mMRJmj"
   },
   "outputs": [],
   "source": [
    "nu_num = np.linspace(0.001, 1, 20)\n",
    "f1 = []\n",
    "\n",
    "for nu in nu_num :\n",
    "    model = OneClassSVM(nu = nu)\n",
    "    model.fit(x_train0)\n",
    "    y_pred = model.predict(x_val_s)\n",
    "    y_pred = np.where(y_pred == 1,0,1)\n",
    "    f1.append(f1_score(y_val, y_pred))"
   ]
  },
  {
   "cell_type": "markdown",
   "metadata": {
    "id": "-AoKM5_Rtabm"
   },
   "source": [
    "* f1 값이 최대화 될 때의 nu 값을 뽑아 봅시다."
   ]
  },
  {
   "cell_type": "code",
   "execution_count": 41,
   "metadata": {
    "id": "t03zoCc8DuKi"
   },
   "outputs": [
    {
     "data": {
      "text/plain": [
       "(0.05357894736842105, 0.026402640264026403)"
      ]
     },
     "execution_count": 41,
     "metadata": {},
     "output_type": "execute_result"
    }
   ],
   "source": [
    "nu_max = nu_num[np.argmax(f1)]\n",
    "nu_max, max(f1)"
   ]
  },
  {
   "cell_type": "markdown",
   "metadata": {
    "id": "WGmgtkSgtgUO"
   },
   "source": [
    "* 이제 차트를 그려서 추세를 분석해 봅시다."
   ]
  },
  {
   "cell_type": "code",
   "execution_count": 42,
   "metadata": {
    "id": "V22KhYZqzlAZ"
   },
   "outputs": [
    {
     "name": "stdout",
     "output_type": "stream",
     "text": [
      "nu : 0.05357894736842105, f1_max : 0.026402640264026403\n"
     ]
    },
    {
     "data": {
      "image/png": "[encoded data removed]",
      "text/plain": [
       "<Figure size 864x576 with 1 Axes>"
      ]
     },
     "metadata": {
      "needs_background": "light"
     },
     "output_type": "display_data"
    }
   ],
   "source": [
    "print( f'nu : {nu_max}, f1_max : {max(f1)}')\n",
    "\n",
    "plt.figure(figsize=(12, 8))\n",
    "plt.plot(nu_num, f1)\n",
    "plt.axvline(nu_max, color = 'darkred')\n",
    "plt.ylabel('F1 Score')\n",
    "plt.xlabel('nu')\n",
    "plt.grid()\n",
    "plt.show()"
   ]
  },
  {
   "cell_type": "markdown",
   "metadata": {
    "id": "Jp0YsnDBh0a3"
   },
   "source": [
    "* 최적의 nu 값으로 다시 모델링 합시다."
   ]
  },
  {
   "cell_type": "code",
   "execution_count": 46,
   "metadata": {
    "id": "qMP5ElYGhjoW"
   },
   "outputs": [
    {
     "name": "stdout",
     "output_type": "stream",
     "text": [
      "              precision    recall  f1-score   support\n",
      "\n",
      "         0.0       0.99      0.95      0.97      5445\n",
      "         1.0       0.02      0.11      0.03        37\n",
      "\n",
      "    accuracy                           0.95      5482\n",
      "   macro avg       0.50      0.53      0.50      5482\n",
      "weighted avg       0.99      0.95      0.97      5482\n",
      "\n",
      "[[5183  262]\n",
      " [  33    4]]\n"
     ]
    }
   ],
   "source": [
    "model = OneClassSVM(nu = nu_max)\n",
    "model.fit(x_train0)\n",
    "y_pred = model.predict(x_val_s)\n",
    "y_pred = np.where(y_pred == 1,0,1)\n",
    "print(classification_report(y_val, y_pred))\n",
    "print(confusion_matrix(y_val, y_pred))"
   ]
  },
  {
   "cell_type": "markdown",
   "metadata": {
    "id": "d47UGiWkz4Qw"
   },
   "source": [
    "## 4.모델링 : AE"
   ]
  },
  {
   "cell_type": "markdown",
   "metadata": {
    "id": "vfdTHJ8pi5iE"
   },
   "source": [
    "### 4.1 모델 설계"
   ]
  },
  {
   "cell_type": "markdown",
   "metadata": {
    "id": "9HvBuGISz4Qw"
   },
   "source": [
    "* 간단한 hyper parameter 설정"
   ]
  },
  {
   "cell_type": "code",
   "execution_count": 50,
   "metadata": {
    "id": "FOpJfMmkz4Qx"
   },
   "outputs": [],
   "source": [
    "epochs = 50\n",
    "input_dim=x_train0.shape[1]\n",
    "tf.random.set_seed(10)"
   ]
  },
  {
   "cell_type": "code",
   "execution_count": 51,
   "metadata": {},
   "outputs": [
    {
     "data": {
      "text/plain": [
       "118"
      ]
     },
     "execution_count": 51,
     "metadata": {},
     "output_type": "execute_result"
    }
   ],
   "source": [
    "input_dim"
   ]
  },
  {
   "cell_type": "markdown",
   "metadata": {
    "id": "Dj6N5amb8Bm_"
   },
   "source": [
    "* 모델 설계"
   ]
  },
  {
   "cell_type": "code",
   "execution_count": 53,
   "metadata": {
    "id": "VkaxObQn8BnA"
   },
   "outputs": [
    {
     "name": "stdout",
     "output_type": "stream",
     "text": [
      "Model: \"model\"\n",
      "_________________________________________________________________\n",
      " Layer (type)                Output Shape              Param #   \n",
      "=================================================================\n",
      " input_1 (InputLayer)        [(None, 118)]             0         \n",
      "                                                                 \n",
      " dense (Dense)               (None, 100)               11900     \n",
      "                                                                 \n",
      " dense_1 (Dense)             (None, 50)                5050      \n",
      "                                                                 \n",
      " dense_2 (Dense)             (None, 100)               5100      \n",
      "                                                                 \n",
      " dense_3 (Dense)             (None, 118)               11918     \n",
      "                                                                 \n",
      "=================================================================\n",
      "Total params: 33,968\n",
      "Trainable params: 33,968\n",
      "Non-trainable params: 0\n",
      "_________________________________________________________________\n"
     ]
    }
   ],
   "source": [
    "clear_session()\n",
    "\n",
    "il = Input(shape = (input_dim,))\n",
    "\n",
    "encoder = Dense(100, activation = 'relu')(il)\n",
    "encoder = Dense(50, activation = 'relu')(encoder)\n",
    "\n",
    "decoder = Dense(100, activation = 'relu')(encoder)\n",
    "decoder = Dense(input_dim, activation = 'relu')(decoder)\n",
    "\n",
    "autoencoder = Model(il, decoder)\n",
    "autoencoder.summary()"
   ]
  },
  {
   "cell_type": "markdown",
   "metadata": {
    "id": "XLXyxhGtz4Qx"
   },
   "source": [
    "* compile + 학습\n",
    "    * 학습시 x=x_train0, y=x_train0를 입력합니다. (비지도)"
   ]
  },
  {
   "cell_type": "code",
   "execution_count": 54,
   "metadata": {
    "id": "g5eFk6i7z4Qy"
   },
   "outputs": [
    {
     "name": "stdout",
     "output_type": "stream",
     "text": [
      "Epoch 1/50\n",
      "397/397 [==============================] - 2s 3ms/step - loss: 0.1065 - accuracy: 0.0054 - val_loss: 0.0885 - val_accuracy: 0.0031\n",
      "Epoch 2/50\n",
      "397/397 [==============================] - 1s 2ms/step - loss: 0.0812 - accuracy: 0.0068 - val_loss: 0.0785 - val_accuracy: 0.0119\n",
      "Epoch 3/50\n",
      "397/397 [==============================] - 1s 2ms/step - loss: 0.0763 - accuracy: 0.0224 - val_loss: 0.0728 - val_accuracy: 0.0109\n",
      "Epoch 4/50\n",
      "397/397 [==============================] - 1s 2ms/step - loss: 0.0697 - accuracy: 0.0229 - val_loss: 0.0610 - val_accuracy: 0.0352\n",
      "Epoch 5/50\n",
      "397/397 [==============================] - 1s 2ms/step - loss: 0.0598 - accuracy: 0.0277 - val_loss: 0.0552 - val_accuracy: 0.0224\n",
      "Epoch 6/50\n",
      "397/397 [==============================] - 1s 2ms/step - loss: 0.0545 - accuracy: 0.0322 - val_loss: 0.0525 - val_accuracy: 0.0336\n",
      "Epoch 7/50\n",
      "397/397 [==============================] - 1s 2ms/step - loss: 0.0523 - accuracy: 0.0361 - val_loss: 0.0506 - val_accuracy: 0.0460\n",
      "Epoch 8/50\n",
      "397/397 [==============================] - 1s 2ms/step - loss: 0.0501 - accuracy: 0.0386 - val_loss: 0.0501 - val_accuracy: 0.0487\n",
      "Epoch 9/50\n",
      "397/397 [==============================] - 1s 2ms/step - loss: 0.0500 - accuracy: 0.0409 - val_loss: 0.0500 - val_accuracy: 0.0334\n",
      "Epoch 10/50\n",
      "397/397 [==============================] - 1s 2ms/step - loss: 0.0459 - accuracy: 0.0410 - val_loss: 0.0434 - val_accuracy: 0.0441\n",
      "Epoch 11/50\n",
      "397/397 [==============================] - 1s 2ms/step - loss: 0.0434 - accuracy: 0.0463 - val_loss: 0.0434 - val_accuracy: 0.0478\n",
      "Epoch 12/50\n",
      "397/397 [==============================] - 1s 2ms/step - loss: 0.0433 - accuracy: 0.0473 - val_loss: 0.0433 - val_accuracy: 0.0529\n",
      "Epoch 13/50\n",
      "397/397 [==============================] - 1s 2ms/step - loss: 0.0433 - accuracy: 0.0472 - val_loss: 0.0433 - val_accuracy: 0.0502\n",
      "Epoch 14/50\n",
      "397/397 [==============================] - 1s 2ms/step - loss: 0.0433 - accuracy: 0.0495 - val_loss: 0.0433 - val_accuracy: 0.0500\n",
      "Epoch 15/50\n",
      "397/397 [==============================] - 1s 2ms/step - loss: 0.0416 - accuracy: 0.0478 - val_loss: 0.0387 - val_accuracy: 0.0516\n",
      "Epoch 16/50\n",
      "397/397 [==============================] - 1s 2ms/step - loss: 0.0387 - accuracy: 0.0458 - val_loss: 0.0386 - val_accuracy: 0.0498\n",
      "Epoch 17/50\n",
      "397/397 [==============================] - 1s 2ms/step - loss: 0.0386 - accuracy: 0.0442 - val_loss: 0.0386 - val_accuracy: 0.0430\n",
      "Epoch 18/50\n",
      "397/397 [==============================] - 1s 2ms/step - loss: 0.0386 - accuracy: 0.0449 - val_loss: 0.0386 - val_accuracy: 0.0436\n",
      "Epoch 19/50\n",
      "397/397 [==============================] - 1s 2ms/step - loss: 0.0378 - accuracy: 0.0452 - val_loss: 0.0369 - val_accuracy: 0.0447\n",
      "Epoch 20/50\n",
      "397/397 [==============================] - 1s 2ms/step - loss: 0.0369 - accuracy: 0.0481 - val_loss: 0.0369 - val_accuracy: 0.0513\n",
      "Epoch 21/50\n",
      "397/397 [==============================] - 1s 2ms/step - loss: 0.0312 - accuracy: 0.0386 - val_loss: 0.0251 - val_accuracy: 0.0310\n",
      "Epoch 22/50\n",
      "397/397 [==============================] - 1s 2ms/step - loss: 0.0250 - accuracy: 0.0332 - val_loss: 0.0250 - val_accuracy: 0.0297\n",
      "Epoch 23/50\n",
      "397/397 [==============================] - 1s 2ms/step - loss: 0.0250 - accuracy: 0.0340 - val_loss: 0.0250 - val_accuracy: 0.0250\n",
      "Epoch 24/50\n",
      "397/397 [==============================] - 1s 2ms/step - loss: 0.0250 - accuracy: 0.0338 - val_loss: 0.0250 - val_accuracy: 0.0407\n",
      "Epoch 25/50\n",
      "397/397 [==============================] - 1s 2ms/step - loss: 0.0250 - accuracy: 0.0360 - val_loss: 0.0250 - val_accuracy: 0.0303\n",
      "Epoch 26/50\n",
      "397/397 [==============================] - 1s 2ms/step - loss: 0.0250 - accuracy: 0.0368 - val_loss: 0.0250 - val_accuracy: 0.0301\n",
      "Epoch 27/50\n",
      "397/397 [==============================] - 1s 2ms/step - loss: 0.0250 - accuracy: 0.0367 - val_loss: 0.0250 - val_accuracy: 0.0476\n",
      "Epoch 28/50\n",
      "397/397 [==============================] - 1s 2ms/step - loss: 0.0250 - accuracy: 0.0404 - val_loss: 0.0250 - val_accuracy: 0.0509\n",
      "Epoch 29/50\n",
      "397/397 [==============================] - 1s 2ms/step - loss: 0.0250 - accuracy: 0.0401 - val_loss: 0.0250 - val_accuracy: 0.0451\n",
      "Epoch 30/50\n",
      "397/397 [==============================] - 1s 2ms/step - loss: 0.0249 - accuracy: 0.0416 - val_loss: 0.0250 - val_accuracy: 0.0498\n",
      "Epoch 31/50\n",
      "397/397 [==============================] - 1s 2ms/step - loss: 0.0249 - accuracy: 0.0415 - val_loss: 0.0249 - val_accuracy: 0.0509\n",
      "Epoch 32/50\n",
      "397/397 [==============================] - 1s 2ms/step - loss: 0.0249 - accuracy: 0.0435 - val_loss: 0.0249 - val_accuracy: 0.0560\n",
      "Epoch 33/50\n",
      "397/397 [==============================] - 1s 2ms/step - loss: 0.0249 - accuracy: 0.0431 - val_loss: 0.0249 - val_accuracy: 0.0553\n",
      "Epoch 34/50\n",
      "397/397 [==============================] - 1s 2ms/step - loss: 0.0247 - accuracy: 0.0425 - val_loss: 0.0236 - val_accuracy: 0.0540\n",
      "Epoch 35/50\n",
      "397/397 [==============================] - 1s 2ms/step - loss: 0.0234 - accuracy: 0.0440 - val_loss: 0.0234 - val_accuracy: 0.0474\n",
      "Epoch 36/50\n",
      "397/397 [==============================] - 1s 2ms/step - loss: 0.0234 - accuracy: 0.0459 - val_loss: 0.0234 - val_accuracy: 0.0337\n",
      "Epoch 37/50\n",
      "397/397 [==============================] - 1s 2ms/step - loss: 0.0234 - accuracy: 0.0442 - val_loss: 0.0233 - val_accuracy: 0.0296\n",
      "Epoch 38/50\n",
      "397/397 [==============================] - 1s 2ms/step - loss: 0.0233 - accuracy: 0.0508 - val_loss: 0.0233 - val_accuracy: 0.0503\n",
      "Epoch 39/50\n",
      "397/397 [==============================] - 1s 3ms/step - loss: 0.0233 - accuracy: 0.0522 - val_loss: 0.0233 - val_accuracy: 0.0622\n",
      "Epoch 40/50\n",
      "397/397 [==============================] - 1s 2ms/step - loss: 0.0233 - accuracy: 0.0539 - val_loss: 0.0233 - val_accuracy: 0.0615\n",
      "Epoch 41/50\n",
      "397/397 [==============================] - 1s 2ms/step - loss: 0.0233 - accuracy: 0.0526 - val_loss: 0.0233 - val_accuracy: 0.0503\n",
      "Epoch 42/50\n",
      "397/397 [==============================] - 1s 2ms/step - loss: 0.0233 - accuracy: 0.0549 - val_loss: 0.0233 - val_accuracy: 0.0598\n",
      "Epoch 43/50\n",
      "397/397 [==============================] - 1s 2ms/step - loss: 0.0233 - accuracy: 0.0545 - val_loss: 0.0233 - val_accuracy: 0.0569\n",
      "Epoch 44/50\n",
      "397/397 [==============================] - 1s 2ms/step - loss: 0.0233 - accuracy: 0.0543 - val_loss: 0.0233 - val_accuracy: 0.0513\n",
      "Epoch 45/50\n",
      "397/397 [==============================] - 1s 2ms/step - loss: 0.0232 - accuracy: 0.0557 - val_loss: 0.0233 - val_accuracy: 0.0617\n",
      "Epoch 46/50\n",
      "397/397 [==============================] - 1s 2ms/step - loss: 0.0232 - accuracy: 0.0546 - val_loss: 0.0233 - val_accuracy: 0.0628\n",
      "Epoch 47/50\n",
      "397/397 [==============================] - 1s 2ms/step - loss: 0.0232 - accuracy: 0.0550 - val_loss: 0.0233 - val_accuracy: 0.0569\n",
      "Epoch 48/50\n",
      "397/397 [==============================] - 1s 2ms/step - loss: 0.0232 - accuracy: 0.0560 - val_loss: 0.0233 - val_accuracy: 0.0534\n",
      "Epoch 49/50\n",
      "397/397 [==============================] - 1s 2ms/step - loss: 0.0232 - accuracy: 0.0553 - val_loss: 0.0233 - val_accuracy: 0.0555\n",
      "Epoch 50/50\n",
      "397/397 [==============================] - 1s 2ms/step - loss: 0.0232 - accuracy: 0.0550 - val_loss: 0.0233 - val_accuracy: 0.0629\n"
     ]
    }
   ],
   "source": [
    "autoencoder.compile(optimizer = 'adam', loss = 'mse', metrics = ['accuracy'])\n",
    "\n",
    "history = autoencoder.fit(x_train0, x_train0, epochs = epochs, validation_data = (x_val_s, x_val_s), verbose = 1).history"
   ]
  },
  {
   "cell_type": "code",
   "execution_count": 55,
   "metadata": {
    "id": "Jv80Z_IHz4Qy"
   },
   "outputs": [
    {
     "data": {
      "image/png": "[encoded data removed]",
      "text/plain": [
       "<Figure size 432x288 with 1 Axes>"
      ]
     },
     "metadata": {
      "needs_background": "light"
     },
     "output_type": "display_data"
    }
   ],
   "source": [
    "plt.plot(history['loss'], label='Train')\n",
    "plt.plot(history['val_loss'], label='Validation')\n",
    "\n",
    "plt.title('Model loss')\n",
    "plt.ylabel('Loss')\n",
    "plt.xlabel('Epoch')\n",
    "plt.legend()\n",
    "plt.grid()\n",
    "plt.show()"
   ]
  },
  {
   "cell_type": "markdown",
   "metadata": {
    "id": "aAWBUK7_z4Qy"
   },
   "source": [
    "### 4.2 예측 및 Reconstruction Error 계산"
   ]
  },
  {
   "cell_type": "markdown",
   "metadata": {
    "id": "Ty-rwrPuz4Qy"
   },
   "source": [
    "* 예측"
   ]
  },
  {
   "cell_type": "code",
   "execution_count": 56,
   "metadata": {
    "id": "5NBL3Tr_z4Qz"
   },
   "outputs": [],
   "source": [
    "y_pred = autoencoder.predict(x_val_s)"
   ]
  },
  {
   "cell_type": "markdown",
   "metadata": {
    "id": "i34M94yCz4Qz"
   },
   "source": [
    "* 재구성 에러 계산"
   ]
  },
  {
   "cell_type": "code",
   "execution_count": 57,
   "metadata": {
    "id": "IJG2BYlMz4Qz"
   },
   "outputs": [
    {
     "data": {
      "image/png": "[encoded data removed]",
      "text/plain": [
       "<Figure size 432x288 with 1 Axes>"
      ]
     },
     "metadata": {
      "needs_background": "light"
     },
     "output_type": "display_data"
    }
   ],
   "source": [
    "result = recon_err_plot(x_val_s, y_pred, y_val, 0.03)"
   ]
  },
  {
   "cell_type": "markdown",
   "metadata": {
    "id": "jCRPtXuyLAUv"
   },
   "source": [
    "## 5.비즈니스 관점의 모델 평가\n",
    "\n",
    "f1 score가 아닌 비용을 모델을 평가해 봅니다.\n",
    "\n",
    "* 비즈니스 상황\n",
    "    * 한 롤로 종이를 말다가 찢어지는 사고가 하루에 한번 이상 발생\n",
    "    * 이때마다 공정 중단 및 수율 저하 등, 평균적으로 100백만원의 손실\n",
    "    * 이를 사전에 감지하는 것은 굉장히 어려운 일입니다. 이런 사고를 5%만 감소시키더라도 회사 입장에서는 상당한 비용 절감 효과가 예상됩니다.\n",
    "\n",
    "* 장애 예방 조치\n",
    "    * 장애가 예상된다면, 속도를 줄여 장애를 예방할 수 있습니다.\n",
    "    * 단, 속도를 줄이면 생산성이 저하되므로, 1회당 평균 3만원의 손실이 발생됩니다."
   ]
  },
  {
   "cell_type": "markdown",
   "metadata": {
    "id": "LiTB1HHLjlcR"
   },
   "source": [
    "* 비즈니스 기대가치 매트릭스 만들기"
   ]
  },
  {
   "cell_type": "code",
   "execution_count": 60,
   "metadata": {
    "id": "sdZZMaxxjk7S"
   },
   "outputs": [
    {
     "data": {
      "text/plain": [
       "array([[   0,   -3],\n",
       "       [-100,   -3]])"
      ]
     },
     "execution_count": 60,
     "metadata": {},
     "output_type": "execute_result"
    }
   ],
   "source": [
    "bv = np.array([[0,-3],[-100,-3]])\n",
    "bv"
   ]
  },
  {
   "cell_type": "markdown",
   "metadata": {
    "id": "0PYnWUI5jn-F"
   },
   "source": [
    "* 비용계산"
   ]
  },
  {
   "cell_type": "code",
   "execution_count": 62,
   "metadata": {
    "id": "3wAJOu5Ljk3q"
   },
   "outputs": [],
   "source": [
    "cm = np.array([[5183,262],[33,4]])"
   ]
  },
  {
   "cell_type": "code",
   "execution_count": 63,
   "metadata": {},
   "outputs": [],
   "source": [
    "cm_p = cm / np.sum(cm)"
   ]
  },
  {
   "cell_type": "code",
   "execution_count": 65,
   "metadata": {},
   "outputs": [
    {
     "name": "stdout",
     "output_type": "stream",
     "text": [
      "-0.7475373951112733\n"
     ]
    }
   ],
   "source": [
    "print(np.sum(bv * cm_p))"
   ]
  }
 ],
 "metadata": {
  "colab": {
   "collapsed_sections": [],
   "name": "종합실습2.ipynb",
   "provenance": [],
   "toc_visible": true
  },
  "kernelspec": {
   "display_name": "Python 3",
   "language": "python",
   "name": "python3"
  },
  "language_info": {
   "codemirror_mode": {
    "name": "ipython",
    "version": 3
   },
   "file_extension": ".py",
   "mimetype": "text/x-python",
   "name": "python",
   "nbconvert_exporter": "python",
   "pygments_lexer": "ipython3",
   "version": "3.8.8"
  }
 },
 "nbformat": 4,
 "nbformat_minor": 1
}
