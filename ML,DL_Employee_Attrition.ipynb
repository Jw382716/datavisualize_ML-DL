{
 "cells": [
  {
   "cell_type": "markdown",
   "metadata": {
    "id": "mTt7qGUTCcFs"
   },
   "source": [
    "# 직원 이직 예측"
   ]
  },
  {
   "cell_type": "markdown",
   "metadata": {
    "id": "t42CZ_o2iHvT"
   },
   "source": [
    "* 회사 인사팀에서는 AIVLER 들에게 직원의 이직여부과 관련해서 분석을 요청하였습니다.\n",
    "* 최근 이직율이 증가하는 것에 대해 우려를 갖고 있기에, 이직여부에 영향을 주는 요인에 대해 분석하여, 이직할 것으로 보이는 직원들에 대해 회사를 떠나지 않도록 인사 프로그램을 준비하려고 합니다.\n",
    "* 어떤 직원이 이직할지 예측해 봅시다."
   ]
  },
  {
   "cell_type": "markdown",
   "metadata": {
    "id": "0wuYJKZHjA3d"
   },
   "source": [
    "![](https://adoptostaging.blob.core.windows.net/media/employee-attrition-reasons-9LIqMv.jpg)"
   ]
  },
  {
   "cell_type": "markdown",
   "metadata": {
    "id": "AHmt88Q5EVsj"
   },
   "source": [
    "## 0.환경설정"
   ]
  },
  {
   "cell_type": "markdown",
   "metadata": {
    "id": "KnzVh2LmkLDU"
   },
   "source": [
    "### 1) 라이브러리 로딩"
   ]
  },
  {
   "cell_type": "code",
   "execution_count": 1,
   "metadata": {
    "id": "3rsQerEaELwI"
   },
   "outputs": [],
   "source": [
    "# 기본 라이브러리 가져오기\n",
    "import pandas as pd\n",
    "import numpy as np\n",
    "\n",
    "import matplotlib.pyplot as plt\n",
    "import seaborn as sns\n",
    "\n",
    "from sklearn.model_selection import train_test_split    "
   ]
  },
  {
   "cell_type": "markdown",
   "metadata": {
    "id": "5Qh5KYWokO_N"
   },
   "source": [
    "### 2) 데이터 로딩"
   ]
  },
  {
   "cell_type": "code",
   "execution_count": 2,
   "metadata": {
    "id": "Bw5yZwT0MJKx"
   },
   "outputs": [
    {
     "data": {
      "text/html": [
       "<div>\n",
       "<style scoped>\n",
       "    .dataframe tbody tr th:only-of-type {\n",
       "        vertical-align: middle;\n",
       "    }\n",
       "\n",
       "    .dataframe tbody tr th {\n",
       "        vertical-align: top;\n",
       "    }\n",
       "\n",
       "    .dataframe thead th {\n",
       "        text-align: right;\n",
       "    }\n",
       "</style>\n",
       "<table border=\"1\" class=\"dataframe\">\n",
       "  <thead>\n",
       "    <tr style=\"text-align: right;\">\n",
       "      <th></th>\n",
       "      <th>Attrition</th>\n",
       "      <th>Age</th>\n",
       "      <th>BusinessTravel</th>\n",
       "      <th>Department</th>\n",
       "      <th>DistanceFromHome</th>\n",
       "      <th>Education</th>\n",
       "      <th>EducationField</th>\n",
       "      <th>EmployeeNumber</th>\n",
       "      <th>EnvironmentSatisfaction</th>\n",
       "      <th>Gender</th>\n",
       "      <th>...</th>\n",
       "      <th>OverTime</th>\n",
       "      <th>PercentSalaryHike</th>\n",
       "      <th>RelationshipSatisfaction</th>\n",
       "      <th>StockOptionLevel</th>\n",
       "      <th>TotalWorkingYears</th>\n",
       "      <th>TrainingTimesLastYear</th>\n",
       "      <th>WorkLifeBalance</th>\n",
       "      <th>YearsAtCompany</th>\n",
       "      <th>YearsInCurrentRole</th>\n",
       "      <th>YearsWithCurrManager</th>\n",
       "    </tr>\n",
       "  </thead>\n",
       "  <tbody>\n",
       "    <tr>\n",
       "      <th>0</th>\n",
       "      <td>0</td>\n",
       "      <td>33</td>\n",
       "      <td>Travel_Rarely</td>\n",
       "      <td>Research &amp; Development</td>\n",
       "      <td>7.0</td>\n",
       "      <td>3</td>\n",
       "      <td>Medical</td>\n",
       "      <td>817</td>\n",
       "      <td>3</td>\n",
       "      <td>Male</td>\n",
       "      <td>...</td>\n",
       "      <td>No</td>\n",
       "      <td>11</td>\n",
       "      <td>4</td>\n",
       "      <td>0</td>\n",
       "      <td>14</td>\n",
       "      <td>3</td>\n",
       "      <td>4</td>\n",
       "      <td>13</td>\n",
       "      <td>9</td>\n",
       "      <td>7</td>\n",
       "    </tr>\n",
       "    <tr>\n",
       "      <th>1</th>\n",
       "      <td>0</td>\n",
       "      <td>35</td>\n",
       "      <td>Travel_Frequently</td>\n",
       "      <td>Research &amp; Development</td>\n",
       "      <td>18.0</td>\n",
       "      <td>2</td>\n",
       "      <td>Life Sciences</td>\n",
       "      <td>1412</td>\n",
       "      <td>3</td>\n",
       "      <td>Male</td>\n",
       "      <td>...</td>\n",
       "      <td>No</td>\n",
       "      <td>11</td>\n",
       "      <td>3</td>\n",
       "      <td>0</td>\n",
       "      <td>10</td>\n",
       "      <td>2</td>\n",
       "      <td>3</td>\n",
       "      <td>2</td>\n",
       "      <td>2</td>\n",
       "      <td>2</td>\n",
       "    </tr>\n",
       "    <tr>\n",
       "      <th>2</th>\n",
       "      <td>0</td>\n",
       "      <td>42</td>\n",
       "      <td>Travel_Rarely</td>\n",
       "      <td>Research &amp; Development</td>\n",
       "      <td>6.0</td>\n",
       "      <td>3</td>\n",
       "      <td>Medical</td>\n",
       "      <td>1911</td>\n",
       "      <td>3</td>\n",
       "      <td>Male</td>\n",
       "      <td>...</td>\n",
       "      <td>No</td>\n",
       "      <td>13</td>\n",
       "      <td>2</td>\n",
       "      <td>1</td>\n",
       "      <td>18</td>\n",
       "      <td>3</td>\n",
       "      <td>4</td>\n",
       "      <td>13</td>\n",
       "      <td>7</td>\n",
       "      <td>7</td>\n",
       "    </tr>\n",
       "    <tr>\n",
       "      <th>3</th>\n",
       "      <td>0</td>\n",
       "      <td>46</td>\n",
       "      <td>Travel_Rarely</td>\n",
       "      <td>Sales</td>\n",
       "      <td>2.0</td>\n",
       "      <td>3</td>\n",
       "      <td>Marketing</td>\n",
       "      <td>1204</td>\n",
       "      <td>3</td>\n",
       "      <td>Female</td>\n",
       "      <td>...</td>\n",
       "      <td>No</td>\n",
       "      <td>23</td>\n",
       "      <td>1</td>\n",
       "      <td>0</td>\n",
       "      <td>28</td>\n",
       "      <td>2</td>\n",
       "      <td>3</td>\n",
       "      <td>26</td>\n",
       "      <td>15</td>\n",
       "      <td>9</td>\n",
       "    </tr>\n",
       "    <tr>\n",
       "      <th>4</th>\n",
       "      <td>0</td>\n",
       "      <td>39</td>\n",
       "      <td>Travel_Frequently</td>\n",
       "      <td>Sales</td>\n",
       "      <td>NaN</td>\n",
       "      <td>3</td>\n",
       "      <td>Life Sciences</td>\n",
       "      <td>1812</td>\n",
       "      <td>3</td>\n",
       "      <td>Male</td>\n",
       "      <td>...</td>\n",
       "      <td>No</td>\n",
       "      <td>18</td>\n",
       "      <td>4</td>\n",
       "      <td>1</td>\n",
       "      <td>7</td>\n",
       "      <td>6</td>\n",
       "      <td>3</td>\n",
       "      <td>2</td>\n",
       "      <td>1</td>\n",
       "      <td>2</td>\n",
       "    </tr>\n",
       "    <tr>\n",
       "      <th>5</th>\n",
       "      <td>1</td>\n",
       "      <td>22</td>\n",
       "      <td>Travel_Frequently</td>\n",
       "      <td>Research &amp; Development</td>\n",
       "      <td>4.0</td>\n",
       "      <td>1</td>\n",
       "      <td>Technical Degree</td>\n",
       "      <td>593</td>\n",
       "      <td>3</td>\n",
       "      <td>Male</td>\n",
       "      <td>...</td>\n",
       "      <td>No</td>\n",
       "      <td>16</td>\n",
       "      <td>3</td>\n",
       "      <td>0</td>\n",
       "      <td>4</td>\n",
       "      <td>3</td>\n",
       "      <td>3</td>\n",
       "      <td>2</td>\n",
       "      <td>2</td>\n",
       "      <td>2</td>\n",
       "    </tr>\n",
       "    <tr>\n",
       "      <th>6</th>\n",
       "      <td>0</td>\n",
       "      <td>24</td>\n",
       "      <td>Travel_Rarely</td>\n",
       "      <td>Research &amp; Development</td>\n",
       "      <td>21.0</td>\n",
       "      <td>2</td>\n",
       "      <td>Technical Degree</td>\n",
       "      <td>1551</td>\n",
       "      <td>3</td>\n",
       "      <td>Male</td>\n",
       "      <td>...</td>\n",
       "      <td>No</td>\n",
       "      <td>14</td>\n",
       "      <td>2</td>\n",
       "      <td>3</td>\n",
       "      <td>2</td>\n",
       "      <td>3</td>\n",
       "      <td>3</td>\n",
       "      <td>1</td>\n",
       "      <td>1</td>\n",
       "      <td>0</td>\n",
       "    </tr>\n",
       "    <tr>\n",
       "      <th>7</th>\n",
       "      <td>0</td>\n",
       "      <td>34</td>\n",
       "      <td>Travel_Rarely</td>\n",
       "      <td>Research &amp; Development</td>\n",
       "      <td>8.0</td>\n",
       "      <td>3</td>\n",
       "      <td>Medical</td>\n",
       "      <td>2068</td>\n",
       "      <td>2</td>\n",
       "      <td>Male</td>\n",
       "      <td>...</td>\n",
       "      <td>No</td>\n",
       "      <td>12</td>\n",
       "      <td>1</td>\n",
       "      <td>0</td>\n",
       "      <td>6</td>\n",
       "      <td>3</td>\n",
       "      <td>4</td>\n",
       "      <td>4</td>\n",
       "      <td>3</td>\n",
       "      <td>2</td>\n",
       "    </tr>\n",
       "    <tr>\n",
       "      <th>8</th>\n",
       "      <td>0</td>\n",
       "      <td>30</td>\n",
       "      <td>Travel_Rarely</td>\n",
       "      <td>Research &amp; Development</td>\n",
       "      <td>20.0</td>\n",
       "      <td>3</td>\n",
       "      <td>Other</td>\n",
       "      <td>1084</td>\n",
       "      <td>3</td>\n",
       "      <td>Male</td>\n",
       "      <td>...</td>\n",
       "      <td>No</td>\n",
       "      <td>15</td>\n",
       "      <td>3</td>\n",
       "      <td>1</td>\n",
       "      <td>7</td>\n",
       "      <td>1</td>\n",
       "      <td>2</td>\n",
       "      <td>6</td>\n",
       "      <td>2</td>\n",
       "      <td>2</td>\n",
       "    </tr>\n",
       "    <tr>\n",
       "      <th>9</th>\n",
       "      <td>0</td>\n",
       "      <td>26</td>\n",
       "      <td>Travel_Rarely</td>\n",
       "      <td>Research &amp; Development</td>\n",
       "      <td>6.0</td>\n",
       "      <td>3</td>\n",
       "      <td>Life Sciences</td>\n",
       "      <td>686</td>\n",
       "      <td>3</td>\n",
       "      <td>Female</td>\n",
       "      <td>...</td>\n",
       "      <td>Yes</td>\n",
       "      <td>13</td>\n",
       "      <td>3</td>\n",
       "      <td>1</td>\n",
       "      <td>3</td>\n",
       "      <td>2</td>\n",
       "      <td>3</td>\n",
       "      <td>3</td>\n",
       "      <td>2</td>\n",
       "      <td>2</td>\n",
       "    </tr>\n",
       "  </tbody>\n",
       "</table>\n",
       "<p>10 rows × 26 columns</p>\n",
       "</div>"
      ],
      "text/plain": [
       "   Attrition  Age     BusinessTravel              Department  \\\n",
       "0          0   33      Travel_Rarely  Research & Development   \n",
       "1          0   35  Travel_Frequently  Research & Development   \n",
       "2          0   42      Travel_Rarely  Research & Development   \n",
       "3          0   46      Travel_Rarely                   Sales   \n",
       "4          0   39  Travel_Frequently                   Sales   \n",
       "5          1   22  Travel_Frequently  Research & Development   \n",
       "6          0   24      Travel_Rarely  Research & Development   \n",
       "7          0   34      Travel_Rarely  Research & Development   \n",
       "8          0   30      Travel_Rarely  Research & Development   \n",
       "9          0   26      Travel_Rarely  Research & Development   \n",
       "\n",
       "   DistanceFromHome  Education    EducationField  EmployeeNumber  \\\n",
       "0               7.0          3           Medical             817   \n",
       "1              18.0          2     Life Sciences            1412   \n",
       "2               6.0          3           Medical            1911   \n",
       "3               2.0          3         Marketing            1204   \n",
       "4               NaN          3     Life Sciences            1812   \n",
       "5               4.0          1  Technical Degree             593   \n",
       "6              21.0          2  Technical Degree            1551   \n",
       "7               8.0          3           Medical            2068   \n",
       "8              20.0          3             Other            1084   \n",
       "9               6.0          3     Life Sciences             686   \n",
       "\n",
       "   EnvironmentSatisfaction  Gender  ...  OverTime PercentSalaryHike  \\\n",
       "0                        3    Male  ...        No                11   \n",
       "1                        3    Male  ...        No                11   \n",
       "2                        3    Male  ...        No                13   \n",
       "3                        3  Female  ...        No                23   \n",
       "4                        3    Male  ...        No                18   \n",
       "5                        3    Male  ...        No                16   \n",
       "6                        3    Male  ...        No                14   \n",
       "7                        2    Male  ...        No                12   \n",
       "8                        3    Male  ...        No                15   \n",
       "9                        3  Female  ...       Yes                13   \n",
       "\n",
       "   RelationshipSatisfaction StockOptionLevel  TotalWorkingYears  \\\n",
       "0                         4                0                 14   \n",
       "1                         3                0                 10   \n",
       "2                         2                1                 18   \n",
       "3                         1                0                 28   \n",
       "4                         4                1                  7   \n",
       "5                         3                0                  4   \n",
       "6                         2                3                  2   \n",
       "7                         1                0                  6   \n",
       "8                         3                1                  7   \n",
       "9                         3                1                  3   \n",
       "\n",
       "   TrainingTimesLastYear WorkLifeBalance  YearsAtCompany  YearsInCurrentRole  \\\n",
       "0                      3               4              13                   9   \n",
       "1                      2               3               2                   2   \n",
       "2                      3               4              13                   7   \n",
       "3                      2               3              26                  15   \n",
       "4                      6               3               2                   1   \n",
       "5                      3               3               2                   2   \n",
       "6                      3               3               1                   1   \n",
       "7                      3               4               4                   3   \n",
       "8                      1               2               6                   2   \n",
       "9                      2               3               3                   2   \n",
       "\n",
       "   YearsWithCurrManager  \n",
       "0                     7  \n",
       "1                     2  \n",
       "2                     7  \n",
       "3                     9  \n",
       "4                     2  \n",
       "5                     2  \n",
       "6                     0  \n",
       "7                     2  \n",
       "8                     2  \n",
       "9                     2  \n",
       "\n",
       "[10 rows x 26 columns]"
      ]
     },
     "execution_count": 2,
     "metadata": {},
     "output_type": "execute_result"
    }
   ],
   "source": [
    "# data data\n",
    "path = \"https://raw.githubusercontent.com/DA4BAM/dataset/master/Attrition_NA.CSV\"\n",
    "data = pd.read_csv(path)\n",
    "data['Attrition'] = np.where(data['Attrition']=='Yes', 1, 0)\n",
    "data.head(10)"
   ]
  },
  {
   "cell_type": "markdown",
   "metadata": {
    "id": "v50TP8BhMJKx"
   },
   "source": [
    "|\t변수 명\t|\t내용\t|\t구분\t|\n",
    "|\t----\t|\t----\t|\t----\t|\n",
    "|\t**Attrition**\t|\t이직여부, Yes = 1 , No = 0\t|\t**Target**\t|\n",
    "|\tAge\t|\t나이\t|\t숫자\t|\n",
    "|\tBusinessTravel\t|\t출장 빈도(범주)\t|\t\t|\n",
    "|\tDepartment\t|\t현 부서\t|\t\t|\n",
    "|\tDistanceFromHome\t|\t집-직장 거리(마일)\t|\t숫자\t|\n",
    "|\tEducation\t|\t교육수준(범주)\t|\t1 Below College, 2 College, 3 Bachelor, 4 Master, 5 Doctor\t|\n",
    "|\tEducationField\t|\t전공\t|\t\t|\n",
    "|\tEmployeeNumber\t|\t사번\t|\t\t|\n",
    "|\tEnvironmentSatisfaction\t|\t근무환경에 대한 만족도(범주)\t|\t1 Low, 2 Good, 3 Excellent, 4 Outstanding\t|\n",
    "|\tGender\t|\t성별\t|\t\t|\n",
    "|\tJobInvolvement\t|\t직무 적극성(참여도)\t|\t1 Low, 2 Medium, 3 High, 4 Very High\t|\n",
    "|\tJobRole\t|\t직무\t|\t\t|\n",
    "|\tJobSatisfaction\t|\t직무 만족도\t|\t1 Low, 2 Medium, 3 High, 4 Very High\t|\n",
    "|\tMaritalStatus\t|\t결혼상태\t|\t\t|\n",
    "|\tMonthlyIncome\t|\t월급\t|\t숫자\t|\n",
    "|\tNumCompaniesWorked\t|\t현재까지 근무한 회사 수\t|\t숫자\t|\n",
    "|\tOverTime\t|\t야근여부\t|\t범주\t|\n",
    "|\tPercentSalaryHike\t|\t전년대비 급여인상율(%)\t|\t숫자\t|\n",
    "|\tRelationshipSatisfaction\t|\t동료와의 관계 만족도\t|\t1 Low, 2 Medium, 3 High, 4 Very High\t|\n",
    "|\tStockOptionLevel\t|\t스톡옵션 수준 0~3\t|\t범주\t|\n",
    "|\tTotalWorkingYears\t|\t총 근무 연수\t|\t숫자\t|\n",
    "|\tTrainingTimesLastYear\t|\t전년 교육훈련 횟수\t|\t숫자\t|\n",
    "|\tWorkLifeBalance\t|\t워라밸. 일-삶 균형도\t|\t1 Bad, 2 Good, 3 Better, 4 Best\t|\n",
    "|\tYearsAtCompany\t|\t현직장 근무 연수\t|\t숫자\t|\n",
    "|\tYearsInCurrentRole\t|\t현직무 연수\t|\t숫자\t|\n",
    "|\tYearsWithCurrManager\t|\t현 팀장과 근무한 연수\t|\t숫자\t|\n"
   ]
  },
  {
   "cell_type": "code",
   "execution_count": 3,
   "metadata": {},
   "outputs": [
    {
     "data": {
      "text/plain": [
       "<Figure size 1080x1800 with 0 Axes>"
      ]
     },
     "metadata": {},
     "output_type": "display_data"
    },
    {
     "data": {
      "image/png": "[encoded data removed]",
      "text/plain": [
       "<Figure size 432x288 with 1 Axes>"
      ]
     },
     "metadata": {
      "needs_background": "light"
     },
     "output_type": "display_data"
    }
   ],
   "source": [
    "OR = pd.crosstab( data['TotalWorkingYears'], data['JobRole'], normalize = 'index')\n",
    "plt.figure(figsize = (15,25))\n",
    "OR.plot.bar(stacked = True)\n",
    "plt.show()"
   ]
  },
  {
   "cell_type": "code",
   "execution_count": 4,
   "metadata": {},
   "outputs": [
    {
     "data": {
      "image/png": "[encoded data removed]",
      "text/plain": [
       "<Figure size 1440x360 with 1 Axes>"
      ]
     },
     "metadata": {
      "needs_background": "light"
     },
     "output_type": "display_data"
    }
   ],
   "source": [
    "plt.figure(figsize = (20,5))\n",
    "sns.barplot(x=\"JobRole\", y=\"TotalWorkingYears\", data=data)\n",
    "plt.show()"
   ]
  },
  {
   "cell_type": "markdown",
   "metadata": {
    "id": "bKimk8qVm8oC"
   },
   "source": [
    "----"
   ]
  },
  {
   "cell_type": "markdown",
   "metadata": {
    "id": "0bouXLxGkSSd"
   },
   "source": [
    "## 1.데이터 탐색"
   ]
  },
  {
   "cell_type": "markdown",
   "metadata": {
    "id": "PRXJWyibZTJN"
   },
   "source": [
    "## 2.데이터 전처리 "
   ]
  },
  {
   "cell_type": "code",
   "execution_count": 5,
   "metadata": {
    "id": "vtn0hI98urCt"
   },
   "outputs": [],
   "source": [
    "target = 'Attrition'"
   ]
  },
  {
   "cell_type": "markdown",
   "metadata": {
    "id": "OftPNXa1EPeV"
   },
   "source": [
    "### 2.1 데이터 정리"
   ]
  },
  {
   "cell_type": "markdown",
   "metadata": {
    "id": "mk_WSjzdnLLE"
   },
   "source": [
    "* feature와 , target으로 분할"
   ]
  },
  {
   "cell_type": "code",
   "execution_count": 6,
   "metadata": {
    "id": "hKx1tqpEEPeV"
   },
   "outputs": [],
   "source": [
    "# x = data.drop(target, axis = 1)\n",
    "# y = data.loc[:, target]"
   ]
  },
  {
   "cell_type": "markdown",
   "metadata": {
    "id": "a_EtSMDQnMQ5"
   },
   "source": [
    "* 불필요한 feature 제거\n",
    "    * 제거해야 할 feature를 선정하고 제거하시오. 제거 이유를 주석으로 기술합니다."
   ]
  },
  {
   "cell_type": "code",
   "execution_count": 7,
   "metadata": {},
   "outputs": [
    {
     "data": {
      "text/html": [
       "<div>\n",
       "<style scoped>\n",
       "    .dataframe tbody tr th:only-of-type {\n",
       "        vertical-align: middle;\n",
       "    }\n",
       "\n",
       "    .dataframe tbody tr th {\n",
       "        vertical-align: top;\n",
       "    }\n",
       "\n",
       "    .dataframe thead th {\n",
       "        text-align: right;\n",
       "    }\n",
       "</style>\n",
       "<table border=\"1\" class=\"dataframe\">\n",
       "  <thead>\n",
       "    <tr style=\"text-align: right;\">\n",
       "      <th></th>\n",
       "      <th>Attrition</th>\n",
       "      <th>Age</th>\n",
       "      <th>DistanceFromHome</th>\n",
       "      <th>Education</th>\n",
       "      <th>EmployeeNumber</th>\n",
       "      <th>EnvironmentSatisfaction</th>\n",
       "      <th>JobInvolvement</th>\n",
       "      <th>JobSatisfaction</th>\n",
       "      <th>MonthlyIncome</th>\n",
       "      <th>NumCompaniesWorked</th>\n",
       "      <th>PercentSalaryHike</th>\n",
       "      <th>RelationshipSatisfaction</th>\n",
       "      <th>StockOptionLevel</th>\n",
       "      <th>TotalWorkingYears</th>\n",
       "      <th>TrainingTimesLastYear</th>\n",
       "      <th>WorkLifeBalance</th>\n",
       "      <th>YearsAtCompany</th>\n",
       "      <th>YearsInCurrentRole</th>\n",
       "      <th>YearsWithCurrManager</th>\n",
       "    </tr>\n",
       "  </thead>\n",
       "  <tbody>\n",
       "    <tr>\n",
       "      <th>Attrition</th>\n",
       "      <td>1.000000</td>\n",
       "      <td>-0.170209</td>\n",
       "      <td>0.081973</td>\n",
       "      <td>-0.036958</td>\n",
       "      <td>-0.004939</td>\n",
       "      <td>-0.097195</td>\n",
       "      <td>-0.130454</td>\n",
       "      <td>-0.084364</td>\n",
       "      <td>-0.166861</td>\n",
       "      <td>0.054454</td>\n",
       "      <td>0.005901</td>\n",
       "      <td>-0.053857</td>\n",
       "      <td>-0.139003</td>\n",
       "      <td>-0.185029</td>\n",
       "      <td>-0.055715</td>\n",
       "      <td>-0.037603</td>\n",
       "      <td>-0.149750</td>\n",
       "      <td>-0.176072</td>\n",
       "      <td>-0.167656</td>\n",
       "    </tr>\n",
       "    <tr>\n",
       "      <th>Age</th>\n",
       "      <td>-0.170209</td>\n",
       "      <td>1.000000</td>\n",
       "      <td>-0.010917</td>\n",
       "      <td>0.202924</td>\n",
       "      <td>-0.018403</td>\n",
       "      <td>0.020928</td>\n",
       "      <td>0.028738</td>\n",
       "      <td>-0.016142</td>\n",
       "      <td>0.489822</td>\n",
       "      <td>0.292489</td>\n",
       "      <td>-0.007442</td>\n",
       "      <td>0.050924</td>\n",
       "      <td>0.037167</td>\n",
       "      <td>0.678051</td>\n",
       "      <td>-0.008693</td>\n",
       "      <td>-0.002516</td>\n",
       "      <td>0.315181</td>\n",
       "      <td>0.211881</td>\n",
       "      <td>0.199053</td>\n",
       "    </tr>\n",
       "    <tr>\n",
       "      <th>DistanceFromHome</th>\n",
       "      <td>0.081973</td>\n",
       "      <td>-0.010917</td>\n",
       "      <td>1.000000</td>\n",
       "      <td>0.014234</td>\n",
       "      <td>0.054948</td>\n",
       "      <td>-0.022426</td>\n",
       "      <td>-0.003271</td>\n",
       "      <td>-0.021623</td>\n",
       "      <td>-0.012803</td>\n",
       "      <td>-0.039472</td>\n",
       "      <td>0.052348</td>\n",
       "      <td>0.015040</td>\n",
       "      <td>0.051672</td>\n",
       "      <td>0.002606</td>\n",
       "      <td>-0.039145</td>\n",
       "      <td>-0.023166</td>\n",
       "      <td>0.008645</td>\n",
       "      <td>0.017755</td>\n",
       "      <td>0.008045</td>\n",
       "    </tr>\n",
       "    <tr>\n",
       "      <th>Education</th>\n",
       "      <td>-0.036958</td>\n",
       "      <td>0.202924</td>\n",
       "      <td>0.014234</td>\n",
       "      <td>1.000000</td>\n",
       "      <td>0.035299</td>\n",
       "      <td>-0.011476</td>\n",
       "      <td>0.063356</td>\n",
       "      <td>-0.026800</td>\n",
       "      <td>0.084006</td>\n",
       "      <td>0.115528</td>\n",
       "      <td>-0.009160</td>\n",
       "      <td>0.000458</td>\n",
       "      <td>0.035575</td>\n",
       "      <td>0.141025</td>\n",
       "      <td>-0.014650</td>\n",
       "      <td>0.023149</td>\n",
       "      <td>0.073020</td>\n",
       "      <td>0.068414</td>\n",
       "      <td>0.082891</td>\n",
       "    </tr>\n",
       "    <tr>\n",
       "      <th>EmployeeNumber</th>\n",
       "      <td>-0.004939</td>\n",
       "      <td>-0.018403</td>\n",
       "      <td>0.054948</td>\n",
       "      <td>0.035299</td>\n",
       "      <td>1.000000</td>\n",
       "      <td>0.019757</td>\n",
       "      <td>0.012572</td>\n",
       "      <td>-0.029219</td>\n",
       "      <td>-0.013571</td>\n",
       "      <td>-0.013080</td>\n",
       "      <td>-0.002839</td>\n",
       "      <td>-0.085708</td>\n",
       "      <td>0.071106</td>\n",
       "      <td>-0.015674</td>\n",
       "      <td>0.004745</td>\n",
       "      <td>0.017754</td>\n",
       "      <td>-0.017434</td>\n",
       "      <td>-0.015468</td>\n",
       "      <td>-0.018975</td>\n",
       "    </tr>\n",
       "    <tr>\n",
       "      <th>EnvironmentSatisfaction</th>\n",
       "      <td>-0.097195</td>\n",
       "      <td>0.020928</td>\n",
       "      <td>-0.022426</td>\n",
       "      <td>-0.011476</td>\n",
       "      <td>0.019757</td>\n",
       "      <td>1.000000</td>\n",
       "      <td>0.005208</td>\n",
       "      <td>-0.013242</td>\n",
       "      <td>0.001249</td>\n",
       "      <td>0.021275</td>\n",
       "      <td>-0.051452</td>\n",
       "      <td>0.018290</td>\n",
       "      <td>-0.002147</td>\n",
       "      <td>-0.001444</td>\n",
       "      <td>-0.051192</td>\n",
       "      <td>0.025798</td>\n",
       "      <td>-0.011527</td>\n",
       "      <td>0.004981</td>\n",
       "      <td>-0.006419</td>\n",
       "    </tr>\n",
       "    <tr>\n",
       "      <th>JobInvolvement</th>\n",
       "      <td>-0.130454</td>\n",
       "      <td>0.028738</td>\n",
       "      <td>-0.003271</td>\n",
       "      <td>0.063356</td>\n",
       "      <td>0.012572</td>\n",
       "      <td>0.005208</td>\n",
       "      <td>1.000000</td>\n",
       "      <td>-0.026601</td>\n",
       "      <td>-0.012065</td>\n",
       "      <td>0.032613</td>\n",
       "      <td>-0.018453</td>\n",
       "      <td>0.045831</td>\n",
       "      <td>0.015146</td>\n",
       "      <td>-0.010169</td>\n",
       "      <td>-0.027776</td>\n",
       "      <td>-0.016226</td>\n",
       "      <td>-0.028314</td>\n",
       "      <td>0.016360</td>\n",
       "      <td>0.026148</td>\n",
       "    </tr>\n",
       "    <tr>\n",
       "      <th>JobSatisfaction</th>\n",
       "      <td>-0.084364</td>\n",
       "      <td>-0.016142</td>\n",
       "      <td>-0.021623</td>\n",
       "      <td>-0.026800</td>\n",
       "      <td>-0.029219</td>\n",
       "      <td>-0.013242</td>\n",
       "      <td>-0.026601</td>\n",
       "      <td>1.000000</td>\n",
       "      <td>-0.023258</td>\n",
       "      <td>-0.047899</td>\n",
       "      <td>0.029032</td>\n",
       "      <td>-0.000973</td>\n",
       "      <td>0.022907</td>\n",
       "      <td>-0.038403</td>\n",
       "      <td>0.005702</td>\n",
       "      <td>-0.015702</td>\n",
       "      <td>-0.016531</td>\n",
       "      <td>-0.011170</td>\n",
       "      <td>-0.034294</td>\n",
       "    </tr>\n",
       "    <tr>\n",
       "      <th>MonthlyIncome</th>\n",
       "      <td>-0.166861</td>\n",
       "      <td>0.489822</td>\n",
       "      <td>-0.012803</td>\n",
       "      <td>0.084006</td>\n",
       "      <td>-0.013571</td>\n",
       "      <td>0.001249</td>\n",
       "      <td>-0.012065</td>\n",
       "      <td>-0.023258</td>\n",
       "      <td>1.000000</td>\n",
       "      <td>0.141670</td>\n",
       "      <td>-0.027852</td>\n",
       "      <td>0.021896</td>\n",
       "      <td>0.019676</td>\n",
       "      <td>0.766927</td>\n",
       "      <td>-0.013954</td>\n",
       "      <td>0.048163</td>\n",
       "      <td>0.523550</td>\n",
       "      <td>0.364796</td>\n",
       "      <td>0.339088</td>\n",
       "    </tr>\n",
       "    <tr>\n",
       "      <th>NumCompaniesWorked</th>\n",
       "      <td>0.054454</td>\n",
       "      <td>0.292489</td>\n",
       "      <td>-0.039472</td>\n",
       "      <td>0.115528</td>\n",
       "      <td>-0.013080</td>\n",
       "      <td>0.021275</td>\n",
       "      <td>0.032613</td>\n",
       "      <td>-0.047899</td>\n",
       "      <td>0.141670</td>\n",
       "      <td>1.000000</td>\n",
       "      <td>0.001516</td>\n",
       "      <td>0.035915</td>\n",
       "      <td>0.031366</td>\n",
       "      <td>0.228027</td>\n",
       "      <td>-0.091086</td>\n",
       "      <td>0.000365</td>\n",
       "      <td>-0.126209</td>\n",
       "      <td>-0.094254</td>\n",
       "      <td>-0.118094</td>\n",
       "    </tr>\n",
       "    <tr>\n",
       "      <th>PercentSalaryHike</th>\n",
       "      <td>0.005901</td>\n",
       "      <td>-0.007442</td>\n",
       "      <td>0.052348</td>\n",
       "      <td>-0.009160</td>\n",
       "      <td>-0.002839</td>\n",
       "      <td>-0.051452</td>\n",
       "      <td>-0.018453</td>\n",
       "      <td>0.029032</td>\n",
       "      <td>-0.027852</td>\n",
       "      <td>0.001516</td>\n",
       "      <td>1.000000</td>\n",
       "      <td>-0.031585</td>\n",
       "      <td>0.000280</td>\n",
       "      <td>-0.026669</td>\n",
       "      <td>-0.001929</td>\n",
       "      <td>-0.007605</td>\n",
       "      <td>-0.032690</td>\n",
       "      <td>0.003709</td>\n",
       "      <td>-0.001219</td>\n",
       "    </tr>\n",
       "    <tr>\n",
       "      <th>RelationshipSatisfaction</th>\n",
       "      <td>-0.053857</td>\n",
       "      <td>0.050924</td>\n",
       "      <td>0.015040</td>\n",
       "      <td>0.000458</td>\n",
       "      <td>-0.085708</td>\n",
       "      <td>0.018290</td>\n",
       "      <td>0.045831</td>\n",
       "      <td>-0.000973</td>\n",
       "      <td>0.021896</td>\n",
       "      <td>0.035915</td>\n",
       "      <td>-0.031585</td>\n",
       "      <td>1.000000</td>\n",
       "      <td>-0.031510</td>\n",
       "      <td>0.024620</td>\n",
       "      <td>0.014708</td>\n",
       "      <td>0.013376</td>\n",
       "      <td>0.028079</td>\n",
       "      <td>-0.013343</td>\n",
       "      <td>0.007373</td>\n",
       "    </tr>\n",
       "    <tr>\n",
       "      <th>StockOptionLevel</th>\n",
       "      <td>-0.139003</td>\n",
       "      <td>0.037167</td>\n",
       "      <td>0.051672</td>\n",
       "      <td>0.035575</td>\n",
       "      <td>0.071106</td>\n",
       "      <td>-0.002147</td>\n",
       "      <td>0.015146</td>\n",
       "      <td>0.022907</td>\n",
       "      <td>0.019676</td>\n",
       "      <td>0.031366</td>\n",
       "      <td>0.000280</td>\n",
       "      <td>-0.031510</td>\n",
       "      <td>1.000000</td>\n",
       "      <td>0.013812</td>\n",
       "      <td>0.027275</td>\n",
       "      <td>0.008164</td>\n",
       "      <td>0.008430</td>\n",
       "      <td>0.040187</td>\n",
       "      <td>0.016525</td>\n",
       "    </tr>\n",
       "    <tr>\n",
       "      <th>TotalWorkingYears</th>\n",
       "      <td>-0.185029</td>\n",
       "      <td>0.678051</td>\n",
       "      <td>0.002606</td>\n",
       "      <td>0.141025</td>\n",
       "      <td>-0.015674</td>\n",
       "      <td>-0.001444</td>\n",
       "      <td>-0.010169</td>\n",
       "      <td>-0.038403</td>\n",
       "      <td>0.766927</td>\n",
       "      <td>0.228027</td>\n",
       "      <td>-0.026669</td>\n",
       "      <td>0.024620</td>\n",
       "      <td>0.013812</td>\n",
       "      <td>1.000000</td>\n",
       "      <td>-0.021673</td>\n",
       "      <td>0.020399</td>\n",
       "      <td>0.634491</td>\n",
       "      <td>0.456276</td>\n",
       "      <td>0.456442</td>\n",
       "    </tr>\n",
       "    <tr>\n",
       "      <th>TrainingTimesLastYear</th>\n",
       "      <td>-0.055715</td>\n",
       "      <td>-0.008693</td>\n",
       "      <td>-0.039145</td>\n",
       "      <td>-0.014650</td>\n",
       "      <td>0.004745</td>\n",
       "      <td>-0.051192</td>\n",
       "      <td>-0.027776</td>\n",
       "      <td>0.005702</td>\n",
       "      <td>-0.013954</td>\n",
       "      <td>-0.091086</td>\n",
       "      <td>-0.001929</td>\n",
       "      <td>0.014708</td>\n",
       "      <td>0.027275</td>\n",
       "      <td>-0.021673</td>\n",
       "      <td>1.000000</td>\n",
       "      <td>0.013832</td>\n",
       "      <td>0.003534</td>\n",
       "      <td>-0.007836</td>\n",
       "      <td>0.008843</td>\n",
       "    </tr>\n",
       "    <tr>\n",
       "      <th>WorkLifeBalance</th>\n",
       "      <td>-0.037603</td>\n",
       "      <td>-0.002516</td>\n",
       "      <td>-0.023166</td>\n",
       "      <td>0.023149</td>\n",
       "      <td>0.017754</td>\n",
       "      <td>0.025798</td>\n",
       "      <td>-0.016226</td>\n",
       "      <td>-0.015702</td>\n",
       "      <td>0.048163</td>\n",
       "      <td>0.000365</td>\n",
       "      <td>-0.007605</td>\n",
       "      <td>0.013376</td>\n",
       "      <td>0.008164</td>\n",
       "      <td>0.020399</td>\n",
       "      <td>0.013832</td>\n",
       "      <td>1.000000</td>\n",
       "      <td>0.024199</td>\n",
       "      <td>0.055739</td>\n",
       "      <td>0.013514</td>\n",
       "    </tr>\n",
       "    <tr>\n",
       "      <th>YearsAtCompany</th>\n",
       "      <td>-0.149750</td>\n",
       "      <td>0.315181</td>\n",
       "      <td>0.008645</td>\n",
       "      <td>0.073020</td>\n",
       "      <td>-0.017434</td>\n",
       "      <td>-0.011527</td>\n",
       "      <td>-0.028314</td>\n",
       "      <td>-0.016531</td>\n",
       "      <td>0.523550</td>\n",
       "      <td>-0.126209</td>\n",
       "      <td>-0.032690</td>\n",
       "      <td>0.028079</td>\n",
       "      <td>0.008430</td>\n",
       "      <td>0.634491</td>\n",
       "      <td>0.003534</td>\n",
       "      <td>0.024199</td>\n",
       "      <td>1.000000</td>\n",
       "      <td>0.753545</td>\n",
       "      <td>0.764469</td>\n",
       "    </tr>\n",
       "    <tr>\n",
       "      <th>YearsInCurrentRole</th>\n",
       "      <td>-0.176072</td>\n",
       "      <td>0.211881</td>\n",
       "      <td>0.017755</td>\n",
       "      <td>0.068414</td>\n",
       "      <td>-0.015468</td>\n",
       "      <td>0.004981</td>\n",
       "      <td>0.016360</td>\n",
       "      <td>-0.011170</td>\n",
       "      <td>0.364796</td>\n",
       "      <td>-0.094254</td>\n",
       "      <td>0.003709</td>\n",
       "      <td>-0.013343</td>\n",
       "      <td>0.040187</td>\n",
       "      <td>0.456276</td>\n",
       "      <td>-0.007836</td>\n",
       "      <td>0.055739</td>\n",
       "      <td>0.753545</td>\n",
       "      <td>1.000000</td>\n",
       "      <td>0.715272</td>\n",
       "    </tr>\n",
       "    <tr>\n",
       "      <th>YearsWithCurrManager</th>\n",
       "      <td>-0.167656</td>\n",
       "      <td>0.199053</td>\n",
       "      <td>0.008045</td>\n",
       "      <td>0.082891</td>\n",
       "      <td>-0.018975</td>\n",
       "      <td>-0.006419</td>\n",
       "      <td>0.026148</td>\n",
       "      <td>-0.034294</td>\n",
       "      <td>0.339088</td>\n",
       "      <td>-0.118094</td>\n",
       "      <td>-0.001219</td>\n",
       "      <td>0.007373</td>\n",
       "      <td>0.016525</td>\n",
       "      <td>0.456442</td>\n",
       "      <td>0.008843</td>\n",
       "      <td>0.013514</td>\n",
       "      <td>0.764469</td>\n",
       "      <td>0.715272</td>\n",
       "      <td>1.000000</td>\n",
       "    </tr>\n",
       "  </tbody>\n",
       "</table>\n",
       "</div>"
      ],
      "text/plain": [
       "                          Attrition       Age  DistanceFromHome  Education  \\\n",
       "Attrition                  1.000000 -0.170209          0.081973  -0.036958   \n",
       "Age                       -0.170209  1.000000         -0.010917   0.202924   \n",
       "DistanceFromHome           0.081973 -0.010917          1.000000   0.014234   \n",
       "Education                 -0.036958  0.202924          0.014234   1.000000   \n",
       "EmployeeNumber            -0.004939 -0.018403          0.054948   0.035299   \n",
       "EnvironmentSatisfaction   -0.097195  0.020928         -0.022426  -0.011476   \n",
       "JobInvolvement            -0.130454  0.028738         -0.003271   0.063356   \n",
       "JobSatisfaction           -0.084364 -0.016142         -0.021623  -0.026800   \n",
       "MonthlyIncome             -0.166861  0.489822         -0.012803   0.084006   \n",
       "NumCompaniesWorked         0.054454  0.292489         -0.039472   0.115528   \n",
       "PercentSalaryHike          0.005901 -0.007442          0.052348  -0.009160   \n",
       "RelationshipSatisfaction  -0.053857  0.050924          0.015040   0.000458   \n",
       "StockOptionLevel          -0.139003  0.037167          0.051672   0.035575   \n",
       "TotalWorkingYears         -0.185029  0.678051          0.002606   0.141025   \n",
       "TrainingTimesLastYear     -0.055715 -0.008693         -0.039145  -0.014650   \n",
       "WorkLifeBalance           -0.037603 -0.002516         -0.023166   0.023149   \n",
       "YearsAtCompany            -0.149750  0.315181          0.008645   0.073020   \n",
       "YearsInCurrentRole        -0.176072  0.211881          0.017755   0.068414   \n",
       "YearsWithCurrManager      -0.167656  0.199053          0.008045   0.082891   \n",
       "\n",
       "                          EmployeeNumber  EnvironmentSatisfaction  \\\n",
       "Attrition                      -0.004939                -0.097195   \n",
       "Age                            -0.018403                 0.020928   \n",
       "DistanceFromHome                0.054948                -0.022426   \n",
       "Education                       0.035299                -0.011476   \n",
       "EmployeeNumber                  1.000000                 0.019757   \n",
       "EnvironmentSatisfaction         0.019757                 1.000000   \n",
       "JobInvolvement                  0.012572                 0.005208   \n",
       "JobSatisfaction                -0.029219                -0.013242   \n",
       "MonthlyIncome                  -0.013571                 0.001249   \n",
       "NumCompaniesWorked             -0.013080                 0.021275   \n",
       "PercentSalaryHike              -0.002839                -0.051452   \n",
       "RelationshipSatisfaction       -0.085708                 0.018290   \n",
       "StockOptionLevel                0.071106                -0.002147   \n",
       "TotalWorkingYears              -0.015674                -0.001444   \n",
       "TrainingTimesLastYear           0.004745                -0.051192   \n",
       "WorkLifeBalance                 0.017754                 0.025798   \n",
       "YearsAtCompany                 -0.017434                -0.011527   \n",
       "YearsInCurrentRole             -0.015468                 0.004981   \n",
       "YearsWithCurrManager           -0.018975                -0.006419   \n",
       "\n",
       "                          JobInvolvement  JobSatisfaction  MonthlyIncome  \\\n",
       "Attrition                      -0.130454        -0.084364      -0.166861   \n",
       "Age                             0.028738        -0.016142       0.489822   \n",
       "DistanceFromHome               -0.003271        -0.021623      -0.012803   \n",
       "Education                       0.063356        -0.026800       0.084006   \n",
       "EmployeeNumber                  0.012572        -0.029219      -0.013571   \n",
       "EnvironmentSatisfaction         0.005208        -0.013242       0.001249   \n",
       "JobInvolvement                  1.000000        -0.026601      -0.012065   \n",
       "JobSatisfaction                -0.026601         1.000000      -0.023258   \n",
       "MonthlyIncome                  -0.012065        -0.023258       1.000000   \n",
       "NumCompaniesWorked              0.032613        -0.047899       0.141670   \n",
       "PercentSalaryHike              -0.018453         0.029032      -0.027852   \n",
       "RelationshipSatisfaction        0.045831        -0.000973       0.021896   \n",
       "StockOptionLevel                0.015146         0.022907       0.019676   \n",
       "TotalWorkingYears              -0.010169        -0.038403       0.766927   \n",
       "TrainingTimesLastYear          -0.027776         0.005702      -0.013954   \n",
       "WorkLifeBalance                -0.016226        -0.015702       0.048163   \n",
       "YearsAtCompany                 -0.028314        -0.016531       0.523550   \n",
       "YearsInCurrentRole              0.016360        -0.011170       0.364796   \n",
       "YearsWithCurrManager            0.026148        -0.034294       0.339088   \n",
       "\n",
       "                          NumCompaniesWorked  PercentSalaryHike  \\\n",
       "Attrition                           0.054454           0.005901   \n",
       "Age                                 0.292489          -0.007442   \n",
       "DistanceFromHome                   -0.039472           0.052348   \n",
       "Education                           0.115528          -0.009160   \n",
       "EmployeeNumber                     -0.013080          -0.002839   \n",
       "EnvironmentSatisfaction             0.021275          -0.051452   \n",
       "JobInvolvement                      0.032613          -0.018453   \n",
       "JobSatisfaction                    -0.047899           0.029032   \n",
       "MonthlyIncome                       0.141670          -0.027852   \n",
       "NumCompaniesWorked                  1.000000           0.001516   \n",
       "PercentSalaryHike                   0.001516           1.000000   \n",
       "RelationshipSatisfaction            0.035915          -0.031585   \n",
       "StockOptionLevel                    0.031366           0.000280   \n",
       "TotalWorkingYears                   0.228027          -0.026669   \n",
       "TrainingTimesLastYear              -0.091086          -0.001929   \n",
       "WorkLifeBalance                     0.000365          -0.007605   \n",
       "YearsAtCompany                     -0.126209          -0.032690   \n",
       "YearsInCurrentRole                 -0.094254           0.003709   \n",
       "YearsWithCurrManager               -0.118094          -0.001219   \n",
       "\n",
       "                          RelationshipSatisfaction  StockOptionLevel  \\\n",
       "Attrition                                -0.053857         -0.139003   \n",
       "Age                                       0.050924          0.037167   \n",
       "DistanceFromHome                          0.015040          0.051672   \n",
       "Education                                 0.000458          0.035575   \n",
       "EmployeeNumber                           -0.085708          0.071106   \n",
       "EnvironmentSatisfaction                   0.018290         -0.002147   \n",
       "JobInvolvement                            0.045831          0.015146   \n",
       "JobSatisfaction                          -0.000973          0.022907   \n",
       "MonthlyIncome                             0.021896          0.019676   \n",
       "NumCompaniesWorked                        0.035915          0.031366   \n",
       "PercentSalaryHike                        -0.031585          0.000280   \n",
       "RelationshipSatisfaction                  1.000000         -0.031510   \n",
       "StockOptionLevel                         -0.031510          1.000000   \n",
       "TotalWorkingYears                         0.024620          0.013812   \n",
       "TrainingTimesLastYear                     0.014708          0.027275   \n",
       "WorkLifeBalance                           0.013376          0.008164   \n",
       "YearsAtCompany                            0.028079          0.008430   \n",
       "YearsInCurrentRole                       -0.013343          0.040187   \n",
       "YearsWithCurrManager                      0.007373          0.016525   \n",
       "\n",
       "                          TotalWorkingYears  TrainingTimesLastYear  \\\n",
       "Attrition                         -0.185029              -0.055715   \n",
       "Age                                0.678051              -0.008693   \n",
       "DistanceFromHome                   0.002606              -0.039145   \n",
       "Education                          0.141025              -0.014650   \n",
       "EmployeeNumber                    -0.015674               0.004745   \n",
       "EnvironmentSatisfaction           -0.001444              -0.051192   \n",
       "JobInvolvement                    -0.010169              -0.027776   \n",
       "JobSatisfaction                   -0.038403               0.005702   \n",
       "MonthlyIncome                      0.766927              -0.013954   \n",
       "NumCompaniesWorked                 0.228027              -0.091086   \n",
       "PercentSalaryHike                 -0.026669              -0.001929   \n",
       "RelationshipSatisfaction           0.024620               0.014708   \n",
       "StockOptionLevel                   0.013812               0.027275   \n",
       "TotalWorkingYears                  1.000000              -0.021673   \n",
       "TrainingTimesLastYear             -0.021673               1.000000   \n",
       "WorkLifeBalance                    0.020399               0.013832   \n",
       "YearsAtCompany                     0.634491               0.003534   \n",
       "YearsInCurrentRole                 0.456276              -0.007836   \n",
       "YearsWithCurrManager               0.456442               0.008843   \n",
       "\n",
       "                          WorkLifeBalance  YearsAtCompany  YearsInCurrentRole  \\\n",
       "Attrition                       -0.037603       -0.149750           -0.176072   \n",
       "Age                             -0.002516        0.315181            0.211881   \n",
       "DistanceFromHome                -0.023166        0.008645            0.017755   \n",
       "Education                        0.023149        0.073020            0.068414   \n",
       "EmployeeNumber                   0.017754       -0.017434           -0.015468   \n",
       "EnvironmentSatisfaction          0.025798       -0.011527            0.004981   \n",
       "JobInvolvement                  -0.016226       -0.028314            0.016360   \n",
       "JobSatisfaction                 -0.015702       -0.016531           -0.011170   \n",
       "MonthlyIncome                    0.048163        0.523550            0.364796   \n",
       "NumCompaniesWorked               0.000365       -0.126209           -0.094254   \n",
       "PercentSalaryHike               -0.007605       -0.032690            0.003709   \n",
       "RelationshipSatisfaction         0.013376        0.028079           -0.013343   \n",
       "StockOptionLevel                 0.008164        0.008430            0.040187   \n",
       "TotalWorkingYears                0.020399        0.634491            0.456276   \n",
       "TrainingTimesLastYear            0.013832        0.003534           -0.007836   \n",
       "WorkLifeBalance                  1.000000        0.024199            0.055739   \n",
       "YearsAtCompany                   0.024199        1.000000            0.753545   \n",
       "YearsInCurrentRole               0.055739        0.753545            1.000000   \n",
       "YearsWithCurrManager             0.013514        0.764469            0.715272   \n",
       "\n",
       "                          YearsWithCurrManager  \n",
       "Attrition                            -0.167656  \n",
       "Age                                   0.199053  \n",
       "DistanceFromHome                      0.008045  \n",
       "Education                             0.082891  \n",
       "EmployeeNumber                       -0.018975  \n",
       "EnvironmentSatisfaction              -0.006419  \n",
       "JobInvolvement                        0.026148  \n",
       "JobSatisfaction                      -0.034294  \n",
       "MonthlyIncome                         0.339088  \n",
       "NumCompaniesWorked                   -0.118094  \n",
       "PercentSalaryHike                    -0.001219  \n",
       "RelationshipSatisfaction              0.007373  \n",
       "StockOptionLevel                      0.016525  \n",
       "TotalWorkingYears                     0.456442  \n",
       "TrainingTimesLastYear                 0.008843  \n",
       "WorkLifeBalance                       0.013514  \n",
       "YearsAtCompany                        0.764469  \n",
       "YearsInCurrentRole                    0.715272  \n",
       "YearsWithCurrManager                  1.000000  "
      ]
     },
     "execution_count": 7,
     "metadata": {},
     "output_type": "execute_result"
    }
   ],
   "source": [
    "data.corr()"
   ]
  },
  {
   "cell_type": "code",
   "execution_count": 8,
   "metadata": {
    "id": "86yIoNg7nNuu"
   },
   "outputs": [
    {
     "data": {
      "text/html": [
       "<div>\n",
       "<style scoped>\n",
       "    .dataframe tbody tr th:only-of-type {\n",
       "        vertical-align: middle;\n",
       "    }\n",
       "\n",
       "    .dataframe tbody tr th {\n",
       "        vertical-align: top;\n",
       "    }\n",
       "\n",
       "    .dataframe thead th {\n",
       "        text-align: right;\n",
       "    }\n",
       "</style>\n",
       "<table border=\"1\" class=\"dataframe\">\n",
       "  <thead>\n",
       "    <tr style=\"text-align: right;\">\n",
       "      <th></th>\n",
       "      <th>Attrition</th>\n",
       "      <th>Age</th>\n",
       "      <th>BusinessTravel</th>\n",
       "      <th>DistanceFromHome</th>\n",
       "      <th>Education</th>\n",
       "      <th>EnvironmentSatisfaction</th>\n",
       "      <th>Gender</th>\n",
       "      <th>JobInvolvement</th>\n",
       "      <th>JobRole</th>\n",
       "      <th>JobSatisfaction</th>\n",
       "      <th>MaritalStatus</th>\n",
       "      <th>MonthlyIncome</th>\n",
       "      <th>NumCompaniesWorked</th>\n",
       "      <th>OverTime</th>\n",
       "      <th>StockOptionLevel</th>\n",
       "      <th>TotalWorkingYears</th>\n",
       "      <th>WorkLifeBalance</th>\n",
       "      <th>YearsAtCompany</th>\n",
       "      <th>YearsInCurrentRole</th>\n",
       "      <th>YearsWithCurrManager</th>\n",
       "    </tr>\n",
       "  </thead>\n",
       "  <tbody>\n",
       "    <tr>\n",
       "      <th>0</th>\n",
       "      <td>0</td>\n",
       "      <td>33</td>\n",
       "      <td>Travel_Rarely</td>\n",
       "      <td>7.0</td>\n",
       "      <td>3</td>\n",
       "      <td>3</td>\n",
       "      <td>Male</td>\n",
       "      <td>3</td>\n",
       "      <td>Research Director</td>\n",
       "      <td>3</td>\n",
       "      <td>Married</td>\n",
       "      <td>11691</td>\n",
       "      <td>0.0</td>\n",
       "      <td>No</td>\n",
       "      <td>0</td>\n",
       "      <td>14</td>\n",
       "      <td>4</td>\n",
       "      <td>13</td>\n",
       "      <td>9</td>\n",
       "      <td>7</td>\n",
       "    </tr>\n",
       "    <tr>\n",
       "      <th>1</th>\n",
       "      <td>0</td>\n",
       "      <td>35</td>\n",
       "      <td>Travel_Frequently</td>\n",
       "      <td>18.0</td>\n",
       "      <td>2</td>\n",
       "      <td>3</td>\n",
       "      <td>Male</td>\n",
       "      <td>3</td>\n",
       "      <td>Manufacturing Director</td>\n",
       "      <td>4</td>\n",
       "      <td>Single</td>\n",
       "      <td>9362</td>\n",
       "      <td>2.0</td>\n",
       "      <td>No</td>\n",
       "      <td>0</td>\n",
       "      <td>10</td>\n",
       "      <td>3</td>\n",
       "      <td>2</td>\n",
       "      <td>2</td>\n",
       "      <td>2</td>\n",
       "    </tr>\n",
       "    <tr>\n",
       "      <th>2</th>\n",
       "      <td>0</td>\n",
       "      <td>42</td>\n",
       "      <td>Travel_Rarely</td>\n",
       "      <td>6.0</td>\n",
       "      <td>3</td>\n",
       "      <td>3</td>\n",
       "      <td>Male</td>\n",
       "      <td>3</td>\n",
       "      <td>Research Director</td>\n",
       "      <td>1</td>\n",
       "      <td>Married</td>\n",
       "      <td>13348</td>\n",
       "      <td>9.0</td>\n",
       "      <td>No</td>\n",
       "      <td>1</td>\n",
       "      <td>18</td>\n",
       "      <td>4</td>\n",
       "      <td>13</td>\n",
       "      <td>7</td>\n",
       "      <td>7</td>\n",
       "    </tr>\n",
       "    <tr>\n",
       "      <th>3</th>\n",
       "      <td>0</td>\n",
       "      <td>46</td>\n",
       "      <td>Travel_Rarely</td>\n",
       "      <td>2.0</td>\n",
       "      <td>3</td>\n",
       "      <td>3</td>\n",
       "      <td>Female</td>\n",
       "      <td>3</td>\n",
       "      <td>Manager</td>\n",
       "      <td>1</td>\n",
       "      <td>Married</td>\n",
       "      <td>17048</td>\n",
       "      <td>8.0</td>\n",
       "      <td>No</td>\n",
       "      <td>0</td>\n",
       "      <td>28</td>\n",
       "      <td>3</td>\n",
       "      <td>26</td>\n",
       "      <td>15</td>\n",
       "      <td>9</td>\n",
       "    </tr>\n",
       "    <tr>\n",
       "      <th>4</th>\n",
       "      <td>0</td>\n",
       "      <td>39</td>\n",
       "      <td>Travel_Frequently</td>\n",
       "      <td>NaN</td>\n",
       "      <td>3</td>\n",
       "      <td>3</td>\n",
       "      <td>Male</td>\n",
       "      <td>3</td>\n",
       "      <td>Sales Executive</td>\n",
       "      <td>4</td>\n",
       "      <td>Divorced</td>\n",
       "      <td>4127</td>\n",
       "      <td>2.0</td>\n",
       "      <td>No</td>\n",
       "      <td>1</td>\n",
       "      <td>7</td>\n",
       "      <td>3</td>\n",
       "      <td>2</td>\n",
       "      <td>1</td>\n",
       "      <td>2</td>\n",
       "    </tr>\n",
       "  </tbody>\n",
       "</table>\n",
       "</div>"
      ],
      "text/plain": [
       "   Attrition  Age     BusinessTravel  DistanceFromHome  Education  \\\n",
       "0          0   33      Travel_Rarely               7.0          3   \n",
       "1          0   35  Travel_Frequently              18.0          2   \n",
       "2          0   42      Travel_Rarely               6.0          3   \n",
       "3          0   46      Travel_Rarely               2.0          3   \n",
       "4          0   39  Travel_Frequently               NaN          3   \n",
       "\n",
       "   EnvironmentSatisfaction  Gender  JobInvolvement                 JobRole  \\\n",
       "0                        3    Male               3       Research Director   \n",
       "1                        3    Male               3  Manufacturing Director   \n",
       "2                        3    Male               3       Research Director   \n",
       "3                        3  Female               3                 Manager   \n",
       "4                        3    Male               3         Sales Executive   \n",
       "\n",
       "   JobSatisfaction MaritalStatus  MonthlyIncome  NumCompaniesWorked OverTime  \\\n",
       "0                3       Married          11691                 0.0       No   \n",
       "1                4        Single           9362                 2.0       No   \n",
       "2                1       Married          13348                 9.0       No   \n",
       "3                1       Married          17048                 8.0       No   \n",
       "4                4      Divorced           4127                 2.0       No   \n",
       "\n",
       "   StockOptionLevel  TotalWorkingYears  WorkLifeBalance  YearsAtCompany  \\\n",
       "0                 0                 14                4              13   \n",
       "1                 0                 10                3               2   \n",
       "2                 1                 18                4              13   \n",
       "3                 0                 28                3              26   \n",
       "4                 1                  7                3               2   \n",
       "\n",
       "   YearsInCurrentRole  YearsWithCurrManager  \n",
       "0                   9                     7  \n",
       "1                   2                     2  \n",
       "2                   7                     7  \n",
       "3                  15                     9  \n",
       "4                   1                     2  "
      ]
     },
     "execution_count": 8,
     "metadata": {},
     "output_type": "execute_result"
    }
   ],
   "source": [
    "drop_col = ['EmployeeNumber', 'PercentSalaryHike', 'Department', 'RelationshipSatisfaction', 'EducationField', 'TrainingTimesLastYear']\n",
    "data.drop(drop_col, axis = 1, inplace = True)\n",
    "data.head()"
   ]
  },
  {
   "cell_type": "markdown",
   "metadata": {
    "id": "ScpJ5uNrGjIw"
   },
   "source": [
    "### 2.2 NaN에 대한 조치\n",
    "* 데이터에 포함된 NaN에 대해서 조치 방법을 결정하고 적용합니다.\n",
    "* 조치방법을 결정한 이유를 주석으로 기술합니다."
   ]
  },
  {
   "cell_type": "code",
   "execution_count": 9,
   "metadata": {
    "id": "8epD0jT6vL51"
   },
   "outputs": [
    {
     "data": {
      "text/plain": [
       "Attrition                   0\n",
       "Age                         0\n",
       "BusinessTravel              0\n",
       "DistanceFromHome           54\n",
       "Education                   0\n",
       "EnvironmentSatisfaction     0\n",
       "Gender                      0\n",
       "JobInvolvement              0\n",
       "JobRole                     0\n",
       "JobSatisfaction             0\n",
       "MaritalStatus               0\n",
       "MonthlyIncome               0\n",
       "NumCompaniesWorked         21\n",
       "OverTime                    0\n",
       "StockOptionLevel            0\n",
       "TotalWorkingYears           0\n",
       "WorkLifeBalance             0\n",
       "YearsAtCompany              0\n",
       "YearsInCurrentRole          0\n",
       "YearsWithCurrManager        0\n",
       "dtype: int64"
      ]
     },
     "execution_count": 9,
     "metadata": {},
     "output_type": "execute_result"
    }
   ],
   "source": [
    "data.isna().sum()"
   ]
  },
  {
   "cell_type": "code",
   "execution_count": 10,
   "metadata": {
    "id": "PERdF7IjNy2X"
   },
   "outputs": [],
   "source": [
    "data['DistanceFromHome'].fillna(2 ,inplace = True)\n",
    "data['NumCompaniesWorked'].fillna(1,inplace = True)"
   ]
  },
  {
   "cell_type": "code",
   "execution_count": 11,
   "metadata": {
    "id": "Oq-35S_DNyg6"
   },
   "outputs": [
    {
     "data": {
      "text/plain": [
       "Attrition                  0\n",
       "Age                        0\n",
       "BusinessTravel             0\n",
       "DistanceFromHome           0\n",
       "Education                  0\n",
       "EnvironmentSatisfaction    0\n",
       "Gender                     0\n",
       "JobInvolvement             0\n",
       "JobRole                    0\n",
       "JobSatisfaction            0\n",
       "MaritalStatus              0\n",
       "MonthlyIncome              0\n",
       "NumCompaniesWorked         0\n",
       "OverTime                   0\n",
       "StockOptionLevel           0\n",
       "TotalWorkingYears          0\n",
       "WorkLifeBalance            0\n",
       "YearsAtCompany             0\n",
       "YearsInCurrentRole         0\n",
       "YearsWithCurrManager       0\n",
       "dtype: int64"
      ]
     },
     "execution_count": 11,
     "metadata": {},
     "output_type": "execute_result"
    }
   ],
   "source": [
    "data.isna().sum()"
   ]
  },
  {
   "cell_type": "code",
   "execution_count": 12,
   "metadata": {},
   "outputs": [
    {
     "data": {
      "text/html": [
       "<div>\n",
       "<style scoped>\n",
       "    .dataframe tbody tr th:only-of-type {\n",
       "        vertical-align: middle;\n",
       "    }\n",
       "\n",
       "    .dataframe tbody tr th {\n",
       "        vertical-align: top;\n",
       "    }\n",
       "\n",
       "    .dataframe thead th {\n",
       "        text-align: right;\n",
       "    }\n",
       "</style>\n",
       "<table border=\"1\" class=\"dataframe\">\n",
       "  <thead>\n",
       "    <tr style=\"text-align: right;\">\n",
       "      <th></th>\n",
       "      <th>Attrition</th>\n",
       "      <th>Age</th>\n",
       "      <th>BusinessTravel</th>\n",
       "      <th>DistanceFromHome</th>\n",
       "      <th>Education</th>\n",
       "      <th>EnvironmentSatisfaction</th>\n",
       "      <th>Gender</th>\n",
       "      <th>JobInvolvement</th>\n",
       "      <th>JobRole</th>\n",
       "      <th>JobSatisfaction</th>\n",
       "      <th>MaritalStatus</th>\n",
       "      <th>MonthlyIncome</th>\n",
       "      <th>NumCompaniesWorked</th>\n",
       "      <th>OverTime</th>\n",
       "      <th>StockOptionLevel</th>\n",
       "      <th>TotalWorkingYears</th>\n",
       "      <th>WorkLifeBalance</th>\n",
       "      <th>YearsAtCompany</th>\n",
       "      <th>YearsInCurrentRole</th>\n",
       "      <th>YearsWithCurrManager</th>\n",
       "    </tr>\n",
       "  </thead>\n",
       "  <tbody>\n",
       "    <tr>\n",
       "      <th>0</th>\n",
       "      <td>0</td>\n",
       "      <td>33</td>\n",
       "      <td>Travel_Rarely</td>\n",
       "      <td>7.0</td>\n",
       "      <td>3</td>\n",
       "      <td>3</td>\n",
       "      <td>Male</td>\n",
       "      <td>3</td>\n",
       "      <td>Research Director</td>\n",
       "      <td>3</td>\n",
       "      <td>Married</td>\n",
       "      <td>11691</td>\n",
       "      <td>0.0</td>\n",
       "      <td>No</td>\n",
       "      <td>0</td>\n",
       "      <td>14</td>\n",
       "      <td>4</td>\n",
       "      <td>13</td>\n",
       "      <td>9</td>\n",
       "      <td>7</td>\n",
       "    </tr>\n",
       "    <tr>\n",
       "      <th>1</th>\n",
       "      <td>0</td>\n",
       "      <td>35</td>\n",
       "      <td>Travel_Frequently</td>\n",
       "      <td>18.0</td>\n",
       "      <td>2</td>\n",
       "      <td>3</td>\n",
       "      <td>Male</td>\n",
       "      <td>3</td>\n",
       "      <td>Manufacturing Director</td>\n",
       "      <td>4</td>\n",
       "      <td>Single</td>\n",
       "      <td>9362</td>\n",
       "      <td>2.0</td>\n",
       "      <td>No</td>\n",
       "      <td>0</td>\n",
       "      <td>10</td>\n",
       "      <td>3</td>\n",
       "      <td>2</td>\n",
       "      <td>2</td>\n",
       "      <td>2</td>\n",
       "    </tr>\n",
       "    <tr>\n",
       "      <th>2</th>\n",
       "      <td>0</td>\n",
       "      <td>42</td>\n",
       "      <td>Travel_Rarely</td>\n",
       "      <td>6.0</td>\n",
       "      <td>3</td>\n",
       "      <td>3</td>\n",
       "      <td>Male</td>\n",
       "      <td>3</td>\n",
       "      <td>Research Director</td>\n",
       "      <td>1</td>\n",
       "      <td>Married</td>\n",
       "      <td>13348</td>\n",
       "      <td>9.0</td>\n",
       "      <td>No</td>\n",
       "      <td>1</td>\n",
       "      <td>18</td>\n",
       "      <td>4</td>\n",
       "      <td>13</td>\n",
       "      <td>7</td>\n",
       "      <td>7</td>\n",
       "    </tr>\n",
       "    <tr>\n",
       "      <th>3</th>\n",
       "      <td>0</td>\n",
       "      <td>46</td>\n",
       "      <td>Travel_Rarely</td>\n",
       "      <td>2.0</td>\n",
       "      <td>3</td>\n",
       "      <td>3</td>\n",
       "      <td>Female</td>\n",
       "      <td>3</td>\n",
       "      <td>Manager</td>\n",
       "      <td>1</td>\n",
       "      <td>Married</td>\n",
       "      <td>17048</td>\n",
       "      <td>8.0</td>\n",
       "      <td>No</td>\n",
       "      <td>0</td>\n",
       "      <td>28</td>\n",
       "      <td>3</td>\n",
       "      <td>26</td>\n",
       "      <td>15</td>\n",
       "      <td>9</td>\n",
       "    </tr>\n",
       "    <tr>\n",
       "      <th>4</th>\n",
       "      <td>0</td>\n",
       "      <td>39</td>\n",
       "      <td>Travel_Frequently</td>\n",
       "      <td>2.0</td>\n",
       "      <td>3</td>\n",
       "      <td>3</td>\n",
       "      <td>Male</td>\n",
       "      <td>3</td>\n",
       "      <td>Sales Executive</td>\n",
       "      <td>4</td>\n",
       "      <td>Divorced</td>\n",
       "      <td>4127</td>\n",
       "      <td>2.0</td>\n",
       "      <td>No</td>\n",
       "      <td>1</td>\n",
       "      <td>7</td>\n",
       "      <td>3</td>\n",
       "      <td>2</td>\n",
       "      <td>1</td>\n",
       "      <td>2</td>\n",
       "    </tr>\n",
       "  </tbody>\n",
       "</table>\n",
       "</div>"
      ],
      "text/plain": [
       "   Attrition  Age     BusinessTravel  DistanceFromHome  Education  \\\n",
       "0          0   33      Travel_Rarely               7.0          3   \n",
       "1          0   35  Travel_Frequently              18.0          2   \n",
       "2          0   42      Travel_Rarely               6.0          3   \n",
       "3          0   46      Travel_Rarely               2.0          3   \n",
       "4          0   39  Travel_Frequently               2.0          3   \n",
       "\n",
       "   EnvironmentSatisfaction  Gender  JobInvolvement                 JobRole  \\\n",
       "0                        3    Male               3       Research Director   \n",
       "1                        3    Male               3  Manufacturing Director   \n",
       "2                        3    Male               3       Research Director   \n",
       "3                        3  Female               3                 Manager   \n",
       "4                        3    Male               3         Sales Executive   \n",
       "\n",
       "   JobSatisfaction MaritalStatus  MonthlyIncome  NumCompaniesWorked OverTime  \\\n",
       "0                3       Married          11691                 0.0       No   \n",
       "1                4        Single           9362                 2.0       No   \n",
       "2                1       Married          13348                 9.0       No   \n",
       "3                1       Married          17048                 8.0       No   \n",
       "4                4      Divorced           4127                 2.0       No   \n",
       "\n",
       "   StockOptionLevel  TotalWorkingYears  WorkLifeBalance  YearsAtCompany  \\\n",
       "0                 0                 14                4              13   \n",
       "1                 0                 10                3               2   \n",
       "2                 1                 18                4              13   \n",
       "3                 0                 28                3              26   \n",
       "4                 1                  7                3               2   \n",
       "\n",
       "   YearsInCurrentRole  YearsWithCurrManager  \n",
       "0                   9                     7  \n",
       "1                   2                     2  \n",
       "2                   7                     7  \n",
       "3                  15                     9  \n",
       "4                   1                     2  "
      ]
     },
     "execution_count": 12,
     "metadata": {},
     "output_type": "execute_result"
    }
   ],
   "source": [
    "data.head()"
   ]
  },
  {
   "cell_type": "markdown",
   "metadata": {
    "id": "HfqkeUD2GjI6"
   },
   "source": [
    "### 2.3 가변수화\n",
    "* 범주형 데이터이면서 값이 0,1 로 되어 있는 것이 아니라면, 가변수화를 수행해야 합니다.\n",
    "* 대상이 되는 변수에 대해서 가변수화를 수행해주세요."
   ]
  },
  {
   "cell_type": "code",
   "execution_count": 13,
   "metadata": {
    "id": "U_wLpFFTN01P"
   },
   "outputs": [
    {
     "data": {
      "text/html": [
       "<div>\n",
       "<style scoped>\n",
       "    .dataframe tbody tr th:only-of-type {\n",
       "        vertical-align: middle;\n",
       "    }\n",
       "\n",
       "    .dataframe tbody tr th {\n",
       "        vertical-align: top;\n",
       "    }\n",
       "\n",
       "    .dataframe thead th {\n",
       "        text-align: right;\n",
       "    }\n",
       "</style>\n",
       "<table border=\"1\" class=\"dataframe\">\n",
       "  <thead>\n",
       "    <tr style=\"text-align: right;\">\n",
       "      <th></th>\n",
       "      <th>Attrition</th>\n",
       "      <th>Age</th>\n",
       "      <th>DistanceFromHome</th>\n",
       "      <th>JobSatisfaction</th>\n",
       "      <th>MonthlyIncome</th>\n",
       "      <th>NumCompaniesWorked</th>\n",
       "      <th>TotalWorkingYears</th>\n",
       "      <th>YearsAtCompany</th>\n",
       "      <th>YearsInCurrentRole</th>\n",
       "      <th>YearsWithCurrManager</th>\n",
       "      <th>...</th>\n",
       "      <th>EnvironmentSatisfaction_2</th>\n",
       "      <th>EnvironmentSatisfaction_3</th>\n",
       "      <th>EnvironmentSatisfaction_4</th>\n",
       "      <th>JobInvolvement_2</th>\n",
       "      <th>JobInvolvement_3</th>\n",
       "      <th>JobInvolvement_4</th>\n",
       "      <th>Education_2</th>\n",
       "      <th>Education_3</th>\n",
       "      <th>Education_4</th>\n",
       "      <th>Education_5</th>\n",
       "    </tr>\n",
       "  </thead>\n",
       "  <tbody>\n",
       "    <tr>\n",
       "      <th>0</th>\n",
       "      <td>0</td>\n",
       "      <td>33</td>\n",
       "      <td>7.0</td>\n",
       "      <td>3</td>\n",
       "      <td>11691</td>\n",
       "      <td>0.0</td>\n",
       "      <td>14</td>\n",
       "      <td>13</td>\n",
       "      <td>9</td>\n",
       "      <td>7</td>\n",
       "      <td>...</td>\n",
       "      <td>0</td>\n",
       "      <td>1</td>\n",
       "      <td>0</td>\n",
       "      <td>0</td>\n",
       "      <td>1</td>\n",
       "      <td>0</td>\n",
       "      <td>0</td>\n",
       "      <td>1</td>\n",
       "      <td>0</td>\n",
       "      <td>0</td>\n",
       "    </tr>\n",
       "    <tr>\n",
       "      <th>1</th>\n",
       "      <td>0</td>\n",
       "      <td>35</td>\n",
       "      <td>18.0</td>\n",
       "      <td>4</td>\n",
       "      <td>9362</td>\n",
       "      <td>2.0</td>\n",
       "      <td>10</td>\n",
       "      <td>2</td>\n",
       "      <td>2</td>\n",
       "      <td>2</td>\n",
       "      <td>...</td>\n",
       "      <td>0</td>\n",
       "      <td>1</td>\n",
       "      <td>0</td>\n",
       "      <td>0</td>\n",
       "      <td>1</td>\n",
       "      <td>0</td>\n",
       "      <td>1</td>\n",
       "      <td>0</td>\n",
       "      <td>0</td>\n",
       "      <td>0</td>\n",
       "    </tr>\n",
       "    <tr>\n",
       "      <th>2</th>\n",
       "      <td>0</td>\n",
       "      <td>42</td>\n",
       "      <td>6.0</td>\n",
       "      <td>1</td>\n",
       "      <td>13348</td>\n",
       "      <td>9.0</td>\n",
       "      <td>18</td>\n",
       "      <td>13</td>\n",
       "      <td>7</td>\n",
       "      <td>7</td>\n",
       "      <td>...</td>\n",
       "      <td>0</td>\n",
       "      <td>1</td>\n",
       "      <td>0</td>\n",
       "      <td>0</td>\n",
       "      <td>1</td>\n",
       "      <td>0</td>\n",
       "      <td>0</td>\n",
       "      <td>1</td>\n",
       "      <td>0</td>\n",
       "      <td>0</td>\n",
       "    </tr>\n",
       "    <tr>\n",
       "      <th>3</th>\n",
       "      <td>0</td>\n",
       "      <td>46</td>\n",
       "      <td>2.0</td>\n",
       "      <td>1</td>\n",
       "      <td>17048</td>\n",
       "      <td>8.0</td>\n",
       "      <td>28</td>\n",
       "      <td>26</td>\n",
       "      <td>15</td>\n",
       "      <td>9</td>\n",
       "      <td>...</td>\n",
       "      <td>0</td>\n",
       "      <td>1</td>\n",
       "      <td>0</td>\n",
       "      <td>0</td>\n",
       "      <td>1</td>\n",
       "      <td>0</td>\n",
       "      <td>0</td>\n",
       "      <td>1</td>\n",
       "      <td>0</td>\n",
       "      <td>0</td>\n",
       "    </tr>\n",
       "    <tr>\n",
       "      <th>4</th>\n",
       "      <td>0</td>\n",
       "      <td>39</td>\n",
       "      <td>2.0</td>\n",
       "      <td>4</td>\n",
       "      <td>4127</td>\n",
       "      <td>2.0</td>\n",
       "      <td>7</td>\n",
       "      <td>2</td>\n",
       "      <td>1</td>\n",
       "      <td>2</td>\n",
       "      <td>...</td>\n",
       "      <td>0</td>\n",
       "      <td>1</td>\n",
       "      <td>0</td>\n",
       "      <td>0</td>\n",
       "      <td>1</td>\n",
       "      <td>0</td>\n",
       "      <td>0</td>\n",
       "      <td>1</td>\n",
       "      <td>0</td>\n",
       "      <td>0</td>\n",
       "    </tr>\n",
       "  </tbody>\n",
       "</table>\n",
       "<p>5 rows × 40 columns</p>\n",
       "</div>"
      ],
      "text/plain": [
       "   Attrition  Age  DistanceFromHome  JobSatisfaction  MonthlyIncome  \\\n",
       "0          0   33               7.0                3          11691   \n",
       "1          0   35              18.0                4           9362   \n",
       "2          0   42               6.0                1          13348   \n",
       "3          0   46               2.0                1          17048   \n",
       "4          0   39               2.0                4           4127   \n",
       "\n",
       "   NumCompaniesWorked  TotalWorkingYears  YearsAtCompany  YearsInCurrentRole  \\\n",
       "0                 0.0                 14              13                   9   \n",
       "1                 2.0                 10               2                   2   \n",
       "2                 9.0                 18              13                   7   \n",
       "3                 8.0                 28              26                  15   \n",
       "4                 2.0                  7               2                   1   \n",
       "\n",
       "   YearsWithCurrManager  ...  EnvironmentSatisfaction_2  \\\n",
       "0                     7  ...                          0   \n",
       "1                     2  ...                          0   \n",
       "2                     7  ...                          0   \n",
       "3                     9  ...                          0   \n",
       "4                     2  ...                          0   \n",
       "\n",
       "   EnvironmentSatisfaction_3  EnvironmentSatisfaction_4  JobInvolvement_2  \\\n",
       "0                          1                          0                 0   \n",
       "1                          1                          0                 0   \n",
       "2                          1                          0                 0   \n",
       "3                          1                          0                 0   \n",
       "4                          1                          0                 0   \n",
       "\n",
       "   JobInvolvement_3  JobInvolvement_4  Education_2  Education_3  Education_4  \\\n",
       "0                 1                 0            0            1            0   \n",
       "1                 1                 0            1            0            0   \n",
       "2                 1                 0            0            1            0   \n",
       "3                 1                 0            0            1            0   \n",
       "4                 1                 0            0            1            0   \n",
       "\n",
       "   Education_5  \n",
       "0            0  \n",
       "1            0  \n",
       "2            0  \n",
       "3            0  \n",
       "4            0  \n",
       "\n",
       "[5 rows x 40 columns]"
      ]
     },
     "execution_count": 13,
     "metadata": {},
     "output_type": "execute_result"
    }
   ],
   "source": [
    "cols = ['JobRole', 'BusinessTravel','MaritalStatus', 'WorkLifeBalance','StockOptionLevel','OverTime', 'Gender', 'EnvironmentSatisfaction', 'JobInvolvement', 'Education']\n",
    "data = pd.get_dummies(data, columns = cols, drop_first = True)\n",
    "data.head()"
   ]
  },
  {
   "cell_type": "code",
   "execution_count": 14,
   "metadata": {
    "id": "AzROtY0XISxN"
   },
   "outputs": [],
   "source": [
    "x = data.drop(target, axis = 1)\n",
    "y = data[target]"
   ]
  },
  {
   "cell_type": "markdown",
   "metadata": {
    "id": "eO9PZwR3GjI7"
   },
   "source": [
    "### 2.4 (옵션) 추가변수 도출\n",
    "* 기존 데이터셋의 변수를 이용하여 추가로 도출할 수 있는 변수가 있다면 수행합니다.\n",
    "* 추가변수에 대해서 주석으로 설명하시오."
   ]
  },
  {
   "cell_type": "markdown",
   "metadata": {
    "id": "-dgcE6vBZTJQ"
   },
   "source": [
    "### 2.5 데이터 분할\n",
    "\n",
    "* test 200건(test_size = 200), random_state = 2022\n",
    "* val 200건(test_size = 200), random_state = 2022\n",
    "* train 나머지."
   ]
  },
  {
   "cell_type": "code",
   "execution_count": 15,
   "metadata": {
    "id": "rrJdDjMiIa1d"
   },
   "outputs": [],
   "source": [
    "from sklearn.model_selection import train_test_split"
   ]
  },
  {
   "cell_type": "code",
   "execution_count": 16,
   "metadata": {
    "id": "cXsn5rf0JDVL"
   },
   "outputs": [],
   "source": [
    "x_train, x_test, y_train, y_test = train_test_split(x,y,test_size = 0.3, random_state=2021)"
   ]
  },
  {
   "cell_type": "markdown",
   "metadata": {
    "id": "2Lwk03PSZTJP"
   },
   "source": [
    "### 2.6 (옵션)스케일링 \n",
    "* 스케일링을 필요로 하는 알고리즘이 있습니다. \n",
    "* 필요하다고 판단될때 수행합니다."
   ]
  },
  {
   "cell_type": "code",
   "execution_count": 17,
   "metadata": {
    "id": "oAVSU7XucCvn"
   },
   "outputs": [],
   "source": [
    "x_train = (x_train - x_train.min())/(x_train.max()-x_train.min())\n",
    "x_test = (x_test - x_test.min())/(x_test.max()-x_test.min())"
   ]
  },
  {
   "cell_type": "markdown",
   "metadata": {
    "id": "ZghJJ7yLEpDA"
   },
   "source": [
    "## 3.모델링1 : 머신러닝"
   ]
  },
  {
   "cell_type": "markdown",
   "metadata": {
    "id": "NFDAfi7-5Xhu"
   },
   "source": [
    "### 3.1 모델링을 위한 함수 불러오기\n",
    "\n",
    "* 꼭 필요한 함수만 불러옵니다. 무조건 다 불러오는 것은 지양해주세요."
   ]
  },
  {
   "cell_type": "code",
   "execution_count": 20,
   "metadata": {
    "id": "zlHHnr2-5cwD"
   },
   "outputs": [],
   "source": [
    "from sklearn.linear_model import LogisticRegression\n",
    "from sklearn.tree import DecisionTreeClassifier\n",
    "from sklearn.neighbors import KNeighborsClassifier\n",
    "from sklearn.svm import SVC\n",
    "from sklearn.ensemble import RandomForestClassifier\n",
    "from xgboost import XGBClassifier\n",
    "from sklearn.model_selection import cross_val_score, GridSearchCV\n",
    "from sklearn.metrics import accuracy_score, classification_report"
   ]
  },
  {
   "cell_type": "markdown",
   "metadata": {
    "id": "6K1mZKlXByLy"
   },
   "source": [
    "### 3.2 모델링\n",
    "* 최소 3개 이상의 알고리즘을 선정합니다.(알고리즘에는 최소 1개 이상의 앙상블 기법을 포함)\n",
    "    * 아래 주어진 목록 이외의 알고리즘을 선정해도 좋습니다.\n",
    "* 각 알고리즘별 튜닝을 수행하여 최적의 모델을 생성합니다.\n",
    "    * 튜닝 방식은 GridSearchCV, RandomizedSearchCV 혹은 for loop 로 직접\n",
    "    * 단, 선형회귀, 로지스틱 회귀의는 입력 변수(feature)를 조절하여 튜닝을 합니다.\n",
    "    * 튜닝 과정에 대해서 주석으로 기술합니다.\n",
    "* 모델링, 튜닝만 수행하는데 그치지 말고, 모델의 내용을 파악하기 위한 분석을 시도합니다. 코드 결과에 대한 분석 의견을 주석으로 기술합니다.\n",
    "    * 예 : 모델 시각화 및 내용 파악, 튜닝 결과 분석 및 시각화"
   ]
  },
  {
   "cell_type": "markdown",
   "metadata": {
    "id": "1j8zehMIIqpv"
   },
   "source": [
    "#### (1) Logistic Regression 모델링"
   ]
  },
  {
   "cell_type": "code",
   "execution_count": 21,
   "metadata": {
    "id": "Y9zuNT45N9ba"
   },
   "outputs": [
    {
     "name": "stdout",
     "output_type": "stream",
     "text": [
      "0.883477011494253\n",
      "              precision    recall  f1-score   support\n",
      "\n",
      "           0       0.89      0.97      0.93       314\n",
      "           1       0.72      0.38      0.49        61\n",
      "\n",
      "    accuracy                           0.87       375\n",
      "   macro avg       0.80      0.67      0.71       375\n",
      "weighted avg       0.86      0.87      0.86       375\n",
      "\n"
     ]
    }
   ],
   "source": [
    "model = LogisticRegression(max_iter = 1000)\n",
    "model.fit(x_train, y_train)\n",
    "cv_score = cross_val_score(model, x_train, y_train, cv = 10)\n",
    "print(cv_score.mean())\n",
    "y_pred = model.predict(x_test)\n",
    "print(classification_report(y_test, y_pred))\n",
    "result = {}\n",
    "result['LogisticR'] = accuracy_score(y_test, y_pred)"
   ]
  },
  {
   "cell_type": "code",
   "execution_count": 23,
   "metadata": {},
   "outputs": [
    {
     "data": {
      "text/plain": [
       "<BarContainer object of 39 artists>"
      ]
     },
     "execution_count": 23,
     "metadata": {},
     "output_type": "execute_result"
    },
    {
     "data": {
      "image/png": "[encoded data removed]",
      "text/plain": [
       "<Figure size 360x720 with 1 Axes>"
      ]
     },
     "metadata": {
      "needs_background": "light"
     },
     "output_type": "display_data"
    }
   ],
   "source": [
    "plt.figure(figsize = (5,10))\n",
    "plt.barh(y = list(x_train), width = model.coef_.reshape(-1))"
   ]
  },
  {
   "cell_type": "markdown",
   "metadata": {
    "id": "ZwstDzzpe5Rg"
   },
   "source": [
    "#### (2) Decision Tree 모델링"
   ]
  },
  {
   "cell_type": "code",
   "execution_count": 24,
   "metadata": {
    "id": "Cu17HFZ-N_sH"
   },
   "outputs": [
    {
     "name": "stdout",
     "output_type": "stream",
     "text": [
      "0.7920323928944619\n",
      "              precision    recall  f1-score   support\n",
      "\n",
      "           0       0.89      0.90      0.90       314\n",
      "           1       0.46      0.43      0.44        61\n",
      "\n",
      "    accuracy                           0.83       375\n",
      "   macro avg       0.68      0.67      0.67       375\n",
      "weighted avg       0.82      0.83      0.82       375\n",
      "\n"
     ]
    }
   ],
   "source": [
    "model = DecisionTreeClassifier(max_depth=10)\n",
    "model.fit(x_train, y_train)\n",
    "cv_score = cross_val_score(model, x_train ,y_train, cv = 10)\n",
    "print(cv_score.mean())\n",
    "y_pred = model.predict(x_test)\n",
    "print(classification_report(y_test, y_pred))\n",
    "result['Tree'] = accuracy_score(y_test, y_pred)"
   ]
  },
  {
   "cell_type": "markdown",
   "metadata": {
    "id": "b7sweeGMWYO1"
   },
   "source": [
    "#### (3) KNN 모델링"
   ]
  },
  {
   "cell_type": "code",
   "execution_count": 25,
   "metadata": {
    "id": "K_ZcYkoxOBRu"
   },
   "outputs": [
    {
     "name": "stdout",
     "output_type": "stream",
     "text": [
      "0.8525992685475444\n",
      "              precision    recall  f1-score   support\n",
      "\n",
      "           0       0.85      0.99      0.92       314\n",
      "           1       0.80      0.13      0.23        61\n",
      "\n",
      "    accuracy                           0.85       375\n",
      "   macro avg       0.83      0.56      0.57       375\n",
      "weighted avg       0.85      0.85      0.81       375\n",
      "\n"
     ]
    }
   ],
   "source": [
    "model = KNeighborsClassifier(n_neighbors=6)\n",
    "model.fit(x_train, y_train)\n",
    "cv_score = cross_val_score(model, x_train ,y_train, cv = 10)\n",
    "print(cv_score.mean())\n",
    "y_pred = model.predict(x_test)\n",
    "print(classification_report(y_test, y_pred))\n",
    "result['KNN'] = accuracy_score(y_test, y_pred)"
   ]
  },
  {
   "cell_type": "markdown",
   "metadata": {
    "id": "JB7CrBcM3j4g"
   },
   "source": [
    "#### (4) SVM 모델링"
   ]
  },
  {
   "cell_type": "code",
   "execution_count": 26,
   "metadata": {
    "id": "E9JfGcpqOCzS"
   },
   "outputs": [
    {
     "name": "stdout",
     "output_type": "stream",
     "text": [
      "0.8812565308254964\n",
      "              precision    recall  f1-score   support\n",
      "\n",
      "           0       0.89      0.95      0.92       314\n",
      "           1       0.60      0.39      0.48        61\n",
      "\n",
      "    accuracy                           0.86       375\n",
      "   macro avg       0.74      0.67      0.70       375\n",
      "weighted avg       0.84      0.86      0.85       375\n",
      "\n"
     ]
    }
   ],
   "source": [
    "model = SVC(C = 100, gamma = 0.01)\n",
    "model.fit(x_train, y_train)\n",
    "cv_score = cross_val_score(model, x_train ,y_train, cv = 10)\n",
    "print(cv_score.mean())\n",
    "y_pred = model.predict(x_test)\n",
    "print(classification_report(y_test, y_pred))\n",
    "result['SVM'] = accuracy_score(y_test, y_pred)"
   ]
  },
  {
   "cell_type": "markdown",
   "metadata": {
    "id": "FNAN5h5ZjxET"
   },
   "source": [
    "#### (5) Random Forest 모델링"
   ]
  },
  {
   "cell_type": "code",
   "execution_count": 27,
   "metadata": {
    "id": "W7b9ksZ_OEeZ"
   },
   "outputs": [
    {
     "name": "stdout",
     "output_type": "stream",
     "text": [
      "0.8525731452455589\n",
      "              precision    recall  f1-score   support\n",
      "\n",
      "           0       0.86      0.99      0.92       314\n",
      "           1       0.82      0.15      0.25        61\n",
      "\n",
      "    accuracy                           0.86       375\n",
      "   macro avg       0.84      0.57      0.59       375\n",
      "weighted avg       0.85      0.86      0.81       375\n",
      "\n"
     ]
    }
   ],
   "source": [
    "model = RandomForestClassifier(max_depth=5)\n",
    "model.fit(x_train, y_train)\n",
    "cv_score = cross_val_score(model, x_train ,y_train, cv = 10)\n",
    "print(cv_score.mean())\n",
    "y_pred = model.predict(x_test)\n",
    "print(classification_report(y_test, y_pred))\n",
    "result['Forest'] = accuracy_score(y_test, y_pred)"
   ]
  },
  {
   "cell_type": "markdown",
   "metadata": {
    "id": "EuRaZc7OkRJN"
   },
   "source": [
    "#### (6) XGB 모델링"
   ]
  },
  {
   "cell_type": "code",
   "execution_count": 28,
   "metadata": {
    "id": "-ABB1_GdOF9j"
   },
   "outputs": [
    {
     "name": "stdout",
     "output_type": "stream",
     "text": [
      "[15:43:01] WARNING: C:/Users/Administrator/workspace/xgboost-win64_release_1.5.1/src/learner.cc:1115: Starting in XGBoost 1.3.0, the default evaluation metric used with the objective 'binary:logistic' was changed from 'error' to 'logloss'. Explicitly set eval_metric if you'd like to restore the old behavior.\n"
     ]
    },
    {
     "name": "stderr",
     "output_type": "stream",
     "text": [
      "C:\\Users\\User\\anaconda3\\lib\\site-packages\\xgboost\\sklearn.py:1224: UserWarning: The use of label encoder in XGBClassifier is deprecated and will be removed in a future release. To remove this warning, do the following: 1) Pass option use_label_encoder=False when constructing XGBClassifier object; and 2) Encode your labels (y) as integers starting with 0, i.e. 0, 1, 2, ..., [num_class - 1].\n",
      "  warnings.warn(label_encoder_deprecation_msg, UserWarning)\n",
      "C:\\Users\\User\\anaconda3\\lib\\site-packages\\xgboost\\sklearn.py:1224: UserWarning: The use of label encoder in XGBClassifier is deprecated and will be removed in a future release. To remove this warning, do the following: 1) Pass option use_label_encoder=False when constructing XGBClassifier object; and 2) Encode your labels (y) as integers starting with 0, i.e. 0, 1, 2, ..., [num_class - 1].\n",
      "  warnings.warn(label_encoder_deprecation_msg, UserWarning)\n"
     ]
    },
    {
     "name": "stdout",
     "output_type": "stream",
     "text": [
      "[15:43:01] WARNING: C:/Users/Administrator/workspace/xgboost-win64_release_1.5.1/src/learner.cc:1115: Starting in XGBoost 1.3.0, the default evaluation metric used with the objective 'binary:logistic' was changed from 'error' to 'logloss'. Explicitly set eval_metric if you'd like to restore the old behavior.\n"
     ]
    },
    {
     "name": "stderr",
     "output_type": "stream",
     "text": [
      "C:\\Users\\User\\anaconda3\\lib\\site-packages\\xgboost\\sklearn.py:1224: UserWarning: The use of label encoder in XGBClassifier is deprecated and will be removed in a future release. To remove this warning, do the following: 1) Pass option use_label_encoder=False when constructing XGBClassifier object; and 2) Encode your labels (y) as integers starting with 0, i.e. 0, 1, 2, ..., [num_class - 1].\n",
      "  warnings.warn(label_encoder_deprecation_msg, UserWarning)\n"
     ]
    },
    {
     "name": "stdout",
     "output_type": "stream",
     "text": [
      "[15:43:01] WARNING: C:/Users/Administrator/workspace/xgboost-win64_release_1.5.1/src/learner.cc:1115: Starting in XGBoost 1.3.0, the default evaluation metric used with the objective 'binary:logistic' was changed from 'error' to 'logloss'. Explicitly set eval_metric if you'd like to restore the old behavior.\n"
     ]
    },
    {
     "name": "stderr",
     "output_type": "stream",
     "text": [
      "C:\\Users\\User\\anaconda3\\lib\\site-packages\\xgboost\\sklearn.py:1224: UserWarning: The use of label encoder in XGBClassifier is deprecated and will be removed in a future release. To remove this warning, do the following: 1) Pass option use_label_encoder=False when constructing XGBClassifier object; and 2) Encode your labels (y) as integers starting with 0, i.e. 0, 1, 2, ..., [num_class - 1].\n",
      "  warnings.warn(label_encoder_deprecation_msg, UserWarning)\n"
     ]
    },
    {
     "name": "stdout",
     "output_type": "stream",
     "text": [
      "[15:43:02] WARNING: C:/Users/Administrator/workspace/xgboost-win64_release_1.5.1/src/learner.cc:1115: Starting in XGBoost 1.3.0, the default evaluation metric used with the objective 'binary:logistic' was changed from 'error' to 'logloss'. Explicitly set eval_metric if you'd like to restore the old behavior.\n"
     ]
    },
    {
     "name": "stderr",
     "output_type": "stream",
     "text": [
      "C:\\Users\\User\\anaconda3\\lib\\site-packages\\xgboost\\sklearn.py:1224: UserWarning: The use of label encoder in XGBClassifier is deprecated and will be removed in a future release. To remove this warning, do the following: 1) Pass option use_label_encoder=False when constructing XGBClassifier object; and 2) Encode your labels (y) as integers starting with 0, i.e. 0, 1, 2, ..., [num_class - 1].\n",
      "  warnings.warn(label_encoder_deprecation_msg, UserWarning)\n"
     ]
    },
    {
     "name": "stdout",
     "output_type": "stream",
     "text": [
      "[15:43:02] WARNING: C:/Users/Administrator/workspace/xgboost-win64_release_1.5.1/src/learner.cc:1115: Starting in XGBoost 1.3.0, the default evaluation metric used with the objective 'binary:logistic' was changed from 'error' to 'logloss'. Explicitly set eval_metric if you'd like to restore the old behavior.\n"
     ]
    },
    {
     "name": "stderr",
     "output_type": "stream",
     "text": [
      "C:\\Users\\User\\anaconda3\\lib\\site-packages\\xgboost\\sklearn.py:1224: UserWarning: The use of label encoder in XGBClassifier is deprecated and will be removed in a future release. To remove this warning, do the following: 1) Pass option use_label_encoder=False when constructing XGBClassifier object; and 2) Encode your labels (y) as integers starting with 0, i.e. 0, 1, 2, ..., [num_class - 1].\n",
      "  warnings.warn(label_encoder_deprecation_msg, UserWarning)\n"
     ]
    },
    {
     "name": "stdout",
     "output_type": "stream",
     "text": [
      "[15:43:02] WARNING: C:/Users/Administrator/workspace/xgboost-win64_release_1.5.1/src/learner.cc:1115: Starting in XGBoost 1.3.0, the default evaluation metric used with the objective 'binary:logistic' was changed from 'error' to 'logloss'. Explicitly set eval_metric if you'd like to restore the old behavior.\n"
     ]
    },
    {
     "name": "stderr",
     "output_type": "stream",
     "text": [
      "C:\\Users\\User\\anaconda3\\lib\\site-packages\\xgboost\\sklearn.py:1224: UserWarning: The use of label encoder in XGBClassifier is deprecated and will be removed in a future release. To remove this warning, do the following: 1) Pass option use_label_encoder=False when constructing XGBClassifier object; and 2) Encode your labels (y) as integers starting with 0, i.e. 0, 1, 2, ..., [num_class - 1].\n",
      "  warnings.warn(label_encoder_deprecation_msg, UserWarning)\n"
     ]
    },
    {
     "name": "stdout",
     "output_type": "stream",
     "text": [
      "[15:43:02] WARNING: C:/Users/Administrator/workspace/xgboost-win64_release_1.5.1/src/learner.cc:1115: Starting in XGBoost 1.3.0, the default evaluation metric used with the objective 'binary:logistic' was changed from 'error' to 'logloss'. Explicitly set eval_metric if you'd like to restore the old behavior.\n"
     ]
    },
    {
     "name": "stderr",
     "output_type": "stream",
     "text": [
      "C:\\Users\\User\\anaconda3\\lib\\site-packages\\xgboost\\sklearn.py:1224: UserWarning: The use of label encoder in XGBClassifier is deprecated and will be removed in a future release. To remove this warning, do the following: 1) Pass option use_label_encoder=False when constructing XGBClassifier object; and 2) Encode your labels (y) as integers starting with 0, i.e. 0, 1, 2, ..., [num_class - 1].\n",
      "  warnings.warn(label_encoder_deprecation_msg, UserWarning)\n"
     ]
    },
    {
     "name": "stdout",
     "output_type": "stream",
     "text": [
      "[15:43:03] WARNING: C:/Users/Administrator/workspace/xgboost-win64_release_1.5.1/src/learner.cc:1115: Starting in XGBoost 1.3.0, the default evaluation metric used with the objective 'binary:logistic' was changed from 'error' to 'logloss'. Explicitly set eval_metric if you'd like to restore the old behavior.\n"
     ]
    },
    {
     "name": "stderr",
     "output_type": "stream",
     "text": [
      "C:\\Users\\User\\anaconda3\\lib\\site-packages\\xgboost\\sklearn.py:1224: UserWarning: The use of label encoder in XGBClassifier is deprecated and will be removed in a future release. To remove this warning, do the following: 1) Pass option use_label_encoder=False when constructing XGBClassifier object; and 2) Encode your labels (y) as integers starting with 0, i.e. 0, 1, 2, ..., [num_class - 1].\n",
      "  warnings.warn(label_encoder_deprecation_msg, UserWarning)\n"
     ]
    },
    {
     "name": "stdout",
     "output_type": "stream",
     "text": [
      "[15:43:03] WARNING: C:/Users/Administrator/workspace/xgboost-win64_release_1.5.1/src/learner.cc:1115: Starting in XGBoost 1.3.0, the default evaluation metric used with the objective 'binary:logistic' was changed from 'error' to 'logloss'. Explicitly set eval_metric if you'd like to restore the old behavior.\n"
     ]
    },
    {
     "name": "stderr",
     "output_type": "stream",
     "text": [
      "C:\\Users\\User\\anaconda3\\lib\\site-packages\\xgboost\\sklearn.py:1224: UserWarning: The use of label encoder in XGBClassifier is deprecated and will be removed in a future release. To remove this warning, do the following: 1) Pass option use_label_encoder=False when constructing XGBClassifier object; and 2) Encode your labels (y) as integers starting with 0, i.e. 0, 1, 2, ..., [num_class - 1].\n",
      "  warnings.warn(label_encoder_deprecation_msg, UserWarning)\n"
     ]
    },
    {
     "name": "stdout",
     "output_type": "stream",
     "text": [
      "[15:43:03] WARNING: C:/Users/Administrator/workspace/xgboost-win64_release_1.5.1/src/learner.cc:1115: Starting in XGBoost 1.3.0, the default evaluation metric used with the objective 'binary:logistic' was changed from 'error' to 'logloss'. Explicitly set eval_metric if you'd like to restore the old behavior.\n"
     ]
    },
    {
     "name": "stderr",
     "output_type": "stream",
     "text": [
      "C:\\Users\\User\\anaconda3\\lib\\site-packages\\xgboost\\sklearn.py:1224: UserWarning: The use of label encoder in XGBClassifier is deprecated and will be removed in a future release. To remove this warning, do the following: 1) Pass option use_label_encoder=False when constructing XGBClassifier object; and 2) Encode your labels (y) as integers starting with 0, i.e. 0, 1, 2, ..., [num_class - 1].\n",
      "  warnings.warn(label_encoder_deprecation_msg, UserWarning)\n"
     ]
    },
    {
     "name": "stdout",
     "output_type": "stream",
     "text": [
      "[15:43:04] WARNING: C:/Users/Administrator/workspace/xgboost-win64_release_1.5.1/src/learner.cc:1115: Starting in XGBoost 1.3.0, the default evaluation metric used with the objective 'binary:logistic' was changed from 'error' to 'logloss'. Explicitly set eval_metric if you'd like to restore the old behavior.\n",
      "0.8480407523510971\n",
      "0.8666666666666667\n"
     ]
    }
   ],
   "source": [
    "model = XGBClassifier()\n",
    "model.fit(x_train, y_train)\n",
    "cv_score = cross_val_score(model, x_train ,y_train, cv = 10)\n",
    "print(cv_score.mean())\n",
    "y_pred = model.predict(x_test)\n",
    "print(accuracy_score(y_test, y_pred))\n",
    "result['XGB'] = accuracy_score(y_test, y_pred)"
   ]
  },
  {
   "cell_type": "markdown",
   "metadata": {
    "id": "IRsH_UjrXNiW"
   },
   "source": [
    "## 4.모델링2 : 딥러닝"
   ]
  },
  {
   "cell_type": "markdown",
   "metadata": {
    "id": "b9kRyQ6K6CIW"
   },
   "source": [
    "### 4.1 모델링을 위한 함수 불러오기"
   ]
  },
  {
   "cell_type": "code",
   "execution_count": 45,
   "metadata": {
    "id": "_BDNB7hM9_hz"
   },
   "outputs": [],
   "source": [
    "import tensorflow as tf\n",
    "from tensorflow import keras\n",
    "from tensorflow.keras.callbacks import EarlyStopping, ModelCheckpoint"
   ]
  },
  {
   "cell_type": "markdown",
   "metadata": {
    "id": "lL9BeX00MLgt"
   },
   "source": [
    "### 4.2 모델 설계\n",
    "* 다양한 구조의 모델 3개 이상을 설계하시오. (히든레이어, 노드 수 조절)"
   ]
  },
  {
   "cell_type": "code",
   "execution_count": 30,
   "metadata": {},
   "outputs": [
    {
     "data": {
      "text/plain": [
       "((875, 39), (875,))"
      ]
     },
     "execution_count": 30,
     "metadata": {},
     "output_type": "execute_result"
    }
   ],
   "source": [
    "x_train.shape, y_train.shape"
   ]
  },
  {
   "cell_type": "markdown",
   "metadata": {
    "id": "yAaMF07mHz_q"
   },
   "source": [
    "* 모델1 "
   ]
  },
  {
   "cell_type": "code",
   "execution_count": 34,
   "metadata": {
    "id": "aA1Pm1oXMLgv"
   },
   "outputs": [],
   "source": [
    "keras.backend.clear_session()\n",
    "\n",
    "model = keras.models.Sequential()\n",
    "\n",
    "model.add(keras.layers.Input(shape = (39,)))\n",
    "model.add(keras.layers.Dense(150, activation = 'relu'))\n",
    "model.add(keras.layers.Dense(150, activation = 'relu'))\n",
    "model.add(keras.layers.Dense(150, activation = 'relu'))\n",
    "model.add(keras.layers.Dense(1, activation = 'sigmoid'))\n",
    "\n",
    "model.compile(loss = 'binary_crossentropy', optimizer = 'adam', metrics = ['accuracy'])"
   ]
  },
  {
   "cell_type": "code",
   "execution_count": 46,
   "metadata": {},
   "outputs": [],
   "source": [
    "es = EarlyStopping(monitor = 'val_accuracy',\n",
    "                  min_delta=0,\n",
    "                  patience = 5,\n",
    "                  verbose = 1,\n",
    "                  restore_best_weights=True)\n",
    "mc = ModelCheckpoint('Employee_Attrition.h5', save_best_only=True, verbose = 1)"
   ]
  },
  {
   "cell_type": "code",
   "execution_count": 48,
   "metadata": {},
   "outputs": [
    {
     "name": "stdout",
     "output_type": "stream",
     "text": [
      "Epoch 1/500\n",
      "22/22 [==============================] - 0s 11ms/step - loss: 0.0828 - accuracy: 0.9714 - val_loss: 0.5116 - val_accuracy: 0.8400\n",
      "\n",
      "Epoch 00001: val_loss improved from inf to 0.51156, saving model to Employee_Attrition.h5\n",
      "Epoch 2/500\n",
      "22/22 [==============================] - 0s 7ms/step - loss: 0.0469 - accuracy: 0.9886 - val_loss: 0.6173 - val_accuracy: 0.8343\n",
      "\n",
      "Epoch 00002: val_loss did not improve from 0.51156\n",
      "Epoch 3/500\n",
      "22/22 [==============================] - 0s 6ms/step - loss: 0.0320 - accuracy: 0.9900 - val_loss: 0.5247 - val_accuracy: 0.8686\n",
      "\n",
      "Epoch 00003: val_loss did not improve from 0.51156\n",
      "Epoch 4/500\n",
      "22/22 [==============================] - 0s 6ms/step - loss: 0.0431 - accuracy: 0.9829 - val_loss: 0.8543 - val_accuracy: 0.8286\n",
      "\n",
      "Epoch 00004: val_loss did not improve from 0.51156\n",
      "Epoch 5/500\n",
      "22/22 [==============================] - 0s 7ms/step - loss: 0.0183 - accuracy: 0.9986 - val_loss: 0.7135 - val_accuracy: 0.8514\n",
      "\n",
      "Epoch 00005: val_loss did not improve from 0.51156\n",
      "Epoch 6/500\n",
      "22/22 [==============================] - 0s 6ms/step - loss: 0.0109 - accuracy: 1.0000 - val_loss: 0.7386 - val_accuracy: 0.8571\n",
      "\n",
      "Epoch 00006: val_loss did not improve from 0.51156\n",
      "Epoch 7/500\n",
      "22/22 [==============================] - 0s 7ms/step - loss: 0.0066 - accuracy: 1.0000 - val_loss: 0.8307 - val_accuracy: 0.8400\n",
      "\n",
      "Epoch 00007: val_loss did not improve from 0.51156\n",
      "Epoch 8/500\n",
      "22/22 [==============================] - 0s 8ms/step - loss: 0.0041 - accuracy: 1.0000 - val_loss: 0.8615 - val_accuracy: 0.8400\n",
      "Restoring model weights from the end of the best epoch.\n",
      "\n",
      "Epoch 00008: val_loss did not improve from 0.51156\n",
      "Epoch 00008: early stopping\n"
     ]
    },
    {
     "data": {
      "text/plain": [
       "<tensorflow.python.keras.callbacks.History at 0x227ffa24040>"
      ]
     },
     "execution_count": 48,
     "metadata": {},
     "output_type": "execute_result"
    }
   ],
   "source": [
    "model.fit(x_train, y_train, verbose = 1, epochs = 500, validation_split=0.2, callbacks = [es,mc])"
   ]
  },
  {
   "cell_type": "code",
   "execution_count": 37,
   "metadata": {},
   "outputs": [
    {
     "name": "stdout",
     "output_type": "stream",
     "text": [
      "              precision    recall  f1-score   support\n",
      "\n",
      "           0       0.89      0.93      0.91       314\n",
      "           1       0.52      0.41      0.46        61\n",
      "\n",
      "    accuracy                           0.84       375\n",
      "   macro avg       0.71      0.67      0.68       375\n",
      "weighted avg       0.83      0.84      0.83       375\n",
      "\n"
     ]
    }
   ],
   "source": [
    "y_pred = model.predict(x_test)\n",
    "print(classification_report(y_test,y_pred.reshape(-1).round(0)))\n",
    "result['DL1'] = accuracy_score(y_test,y_pred.reshape(-1).round(0))"
   ]
  },
  {
   "cell_type": "markdown",
   "metadata": {
    "id": "gU1_UtFlH3sY"
   },
   "source": [
    "* 모델2"
   ]
  },
  {
   "cell_type": "code",
   "execution_count": 39,
   "metadata": {
    "id": "bjcO9q9mH3sY"
   },
   "outputs": [],
   "source": [
    "keras.backend.clear_session()\n",
    "\n",
    "il = keras.layers.Input(shape = (39,))\n",
    "hl = keras.layers.Dense(150, activation = 'relu')(il)\n",
    "hl = keras.layers.Dense(150, activation = 'relu')(hl)\n",
    "hl = keras.layers.Dense(150, activation = 'relu')(hl)\n",
    "ol = keras.layers.Dense(1, activation = 'sigmoid')(hl)\n",
    "model = keras.models.Model(il, ol)\n",
    "model.compile(loss = 'binary_crossentropy', optimizer = 'adam', metrics = ['accuracy'])"
   ]
  },
  {
   "cell_type": "code",
   "execution_count": 40,
   "metadata": {},
   "outputs": [],
   "source": [
    "es = EarlyStopping(monitor = 'val_loss',\n",
    "                  min_delta=0,\n",
    "                  patience = 5,\n",
    "                  verbose = 1,\n",
    "                  restore_best_weights=True)\n",
    "mc = ModelCheckpoint('Employee_Attrition.h5', save_best_only=True, verbose = 1)"
   ]
  },
  {
   "cell_type": "code",
   "execution_count": 49,
   "metadata": {},
   "outputs": [
    {
     "name": "stdout",
     "output_type": "stream",
     "text": [
      "Epoch 1/500\n",
      "6/6 [==============================] - 0s 25ms/step - loss: 0.0256 - accuracy: 0.9943 - val_loss: 0.6773 - val_accuracy: 0.8457\n",
      "\n",
      "Epoch 00001: val_loss did not improve from 0.51156\n",
      "Epoch 2/500\n",
      "6/6 [==============================] - 0s 15ms/step - loss: 0.0186 - accuracy: 0.9957 - val_loss: 0.6351 - val_accuracy: 0.8629\n",
      "\n",
      "Epoch 00002: val_loss did not improve from 0.51156\n",
      "Epoch 3/500\n",
      "6/6 [==============================] - 0s 20ms/step - loss: 0.0159 - accuracy: 1.0000 - val_loss: 0.6762 - val_accuracy: 0.8571\n",
      "\n",
      "Epoch 00003: val_loss did not improve from 0.51156\n",
      "Epoch 4/500\n",
      "6/6 [==============================] - 0s 18ms/step - loss: 0.0131 - accuracy: 1.0000 - val_loss: 0.7543 - val_accuracy: 0.8343\n",
      "\n",
      "Epoch 00004: val_loss did not improve from 0.51156\n",
      "Epoch 5/500\n",
      "6/6 [==============================] - 0s 18ms/step - loss: 0.0119 - accuracy: 1.0000 - val_loss: 0.7067 - val_accuracy: 0.8571\n",
      "\n",
      "Epoch 00005: val_loss did not improve from 0.51156\n",
      "Epoch 6/500\n",
      "6/6 [==============================] - 0s 18ms/step - loss: 0.0107 - accuracy: 1.0000 - val_loss: 0.7217 - val_accuracy: 0.8571\n",
      "\n",
      "Epoch 00006: val_loss did not improve from 0.51156\n",
      "Epoch 7/500\n",
      "6/6 [==============================] - 0s 18ms/step - loss: 0.0091 - accuracy: 1.0000 - val_loss: 0.7795 - val_accuracy: 0.8400\n",
      "Restoring model weights from the end of the best epoch.\n",
      "\n",
      "Epoch 00007: val_loss did not improve from 0.51156\n",
      "Epoch 00007: early stopping\n"
     ]
    },
    {
     "data": {
      "text/plain": [
       "<tensorflow.python.keras.callbacks.History at 0x227ff9cc2e0>"
      ]
     },
     "execution_count": 49,
     "metadata": {},
     "output_type": "execute_result"
    }
   ],
   "source": [
    "model.fit(x_train, y_train, verbose = 1, epochs = 500, validation_split=0.2, callbacks = [es,mc], batch_size = 128)"
   ]
  },
  {
   "cell_type": "code",
   "execution_count": 50,
   "metadata": {
    "id": "rlTLt04PKLlz"
   },
   "outputs": [
    {
     "name": "stdout",
     "output_type": "stream",
     "text": [
      "              precision    recall  f1-score   support\n",
      "\n",
      "           0       0.89      0.95      0.92       314\n",
      "           1       0.59      0.38      0.46        61\n",
      "\n",
      "    accuracy                           0.86       375\n",
      "   macro avg       0.74      0.66      0.69       375\n",
      "weighted avg       0.84      0.86      0.84       375\n",
      "\n"
     ]
    }
   ],
   "source": [
    "y_pred = model.predict(x_test)\n",
    "print(classification_report(y_test,y_pred.reshape(-1).round(0)))\n",
    "result['DL'] = accuracy_score(y_test,y_pred.reshape(-1).round(0))"
   ]
  },
  {
   "cell_type": "markdown",
   "metadata": {
    "id": "U4UL4ynYL6Ly"
   },
   "source": [
    "## 5.성능 비교\n",
    "* 알고리즘별 선정된 모델이 최소 6개 입니다. 이에 대해 성능을 평가합니다.\n",
    "* 평가를 위한 적절한 지표(metric)을 결정하고 비교합니다.\n",
    "    * 평가지표 선정 이유도 주석으로 기술하시오.\n",
    "* 최종 모델을 선정하게 된 근거를 주석으로 기술하시오."
   ]
  },
  {
   "cell_type": "markdown",
   "metadata": {
    "id": "lKA2UyB6HXfF"
   },
   "source": [
    "### 5.1 평가지표 결정\n",
    "\n",
    "* 어떤 지표로 성능을 비교할지 결정합니다.\n",
    "* 결정 이유를 기술합니다."
   ]
  },
  {
   "cell_type": "code",
   "execution_count": 43,
   "metadata": {
    "id": "Ta99Rh0IHarR"
   },
   "outputs": [
    {
     "data": {
      "text/plain": [
       "<function matplotlib.pyplot.show(close=None, block=None)>"
      ]
     },
     "execution_count": 43,
     "metadata": {},
     "output_type": "execute_result"
    },
    {
     "data": {
      "image/png": "[encoded data removed]",
      "text/plain": [
       "<Figure size 432x288 with 1 Axes>"
      ]
     },
     "metadata": {
      "needs_background": "light"
     },
     "output_type": "display_data"
    }
   ],
   "source": [
    "plt.barh(y = list(result), width = result.values())\n",
    "plt.show"
   ]
  },
  {
   "cell_type": "code",
   "execution_count": 44,
   "metadata": {},
   "outputs": [
    {
     "name": "stdout",
     "output_type": "stream",
     "text": [
      "{'LogisticR': 0.8746666666666667, 'Tree': 0.8266666666666667, 'KNN': 0.8533333333333334, 'SVM': 0.8586666666666667, 'Forest': 0.856, 'XGB': 0.8666666666666667, 'DL1': 0.8426666666666667, 'DL': 0.84}\n"
     ]
    }
   ],
   "source": [
    "print(result)"
   ]
  },
  {
   "cell_type": "markdown",
   "metadata": {
    "id": "W_b0QbnbHaXl"
   },
   "source": [
    "### accuracy_score을 이용하여 성능을 평가. DL이나 ML의 Logisitc Regression을 이용"
   ]
  }
 ],
 "metadata": {
  "colab": {
   "collapsed_sections": [],
   "name": "과제2. 직원 이직 분석.ipynb",
   "provenance": [],
   "toc_visible": true
  },
  "kernelspec": {
   "display_name": "Python 3",
   "language": "python",
   "name": "python3"
  },
  "language_info": {
   "codemirror_mode": {
    "name": "ipython",
    "version": 3
   },
   "file_extension": ".py",
   "mimetype": "text/x-python",
   "name": "python",
   "nbconvert_exporter": "python",
   "pygments_lexer": "ipython3",
   "version": "3.8.8"
  }
 },
 "nbformat": 4,
 "nbformat_minor": 4
}
